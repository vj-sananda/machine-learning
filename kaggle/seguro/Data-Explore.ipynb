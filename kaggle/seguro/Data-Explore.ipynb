{
 "cells": [
  {
   "cell_type": "markdown",
   "metadata": {},
   "source": [
    "### Seguro Kaggle"
   ]
  },
  {
   "cell_type": "code",
   "execution_count": 1,
   "metadata": {
    "collapsed": true
   },
   "outputs": [],
   "source": [
    "import pandas as pd\n",
    "import numpy as np\n",
    "import matplotlib.pyplot as plt\n",
    "\n",
    "%matplotlib inline"
   ]
  },
  {
   "cell_type": "code",
   "execution_count": 2,
   "metadata": {
    "collapsed": true
   },
   "outputs": [],
   "source": [
    "train_df = pd.read_csv('data/train.csv')"
   ]
  },
  {
   "cell_type": "code",
   "execution_count": 3,
   "metadata": {
    "collapsed": false
   },
   "outputs": [
    {
     "name": "stdout",
     "output_type": "stream",
     "text": [
      "  595213 data/train.csv\r\n"
     ]
    }
   ],
   "source": [
    "!wc -l data/train.csv"
   ]
  },
  {
   "cell_type": "code",
   "execution_count": 4,
   "metadata": {
    "collapsed": false
   },
   "outputs": [
    {
     "data": {
      "text/html": [
       "<div>\n",
       "<table border=\"1\" class=\"dataframe\">\n",
       "  <thead>\n",
       "    <tr style=\"text-align: right;\">\n",
       "      <th></th>\n",
       "      <th>id</th>\n",
       "      <th>target</th>\n",
       "      <th>ps_ind_01</th>\n",
       "      <th>ps_ind_02_cat</th>\n",
       "      <th>ps_ind_03</th>\n",
       "      <th>ps_ind_04_cat</th>\n",
       "      <th>ps_ind_05_cat</th>\n",
       "      <th>ps_ind_06_bin</th>\n",
       "      <th>ps_ind_07_bin</th>\n",
       "      <th>ps_ind_08_bin</th>\n",
       "      <th>...</th>\n",
       "      <th>ps_calc_11</th>\n",
       "      <th>ps_calc_12</th>\n",
       "      <th>ps_calc_13</th>\n",
       "      <th>ps_calc_14</th>\n",
       "      <th>ps_calc_15_bin</th>\n",
       "      <th>ps_calc_16_bin</th>\n",
       "      <th>ps_calc_17_bin</th>\n",
       "      <th>ps_calc_18_bin</th>\n",
       "      <th>ps_calc_19_bin</th>\n",
       "      <th>ps_calc_20_bin</th>\n",
       "    </tr>\n",
       "  </thead>\n",
       "  <tbody>\n",
       "    <tr>\n",
       "      <th>0</th>\n",
       "      <td>7</td>\n",
       "      <td>0</td>\n",
       "      <td>2</td>\n",
       "      <td>2</td>\n",
       "      <td>5</td>\n",
       "      <td>1</td>\n",
       "      <td>0</td>\n",
       "      <td>0</td>\n",
       "      <td>1</td>\n",
       "      <td>0</td>\n",
       "      <td>...</td>\n",
       "      <td>9</td>\n",
       "      <td>1</td>\n",
       "      <td>5</td>\n",
       "      <td>8</td>\n",
       "      <td>0</td>\n",
       "      <td>1</td>\n",
       "      <td>1</td>\n",
       "      <td>0</td>\n",
       "      <td>0</td>\n",
       "      <td>1</td>\n",
       "    </tr>\n",
       "    <tr>\n",
       "      <th>1</th>\n",
       "      <td>9</td>\n",
       "      <td>0</td>\n",
       "      <td>1</td>\n",
       "      <td>1</td>\n",
       "      <td>7</td>\n",
       "      <td>0</td>\n",
       "      <td>0</td>\n",
       "      <td>0</td>\n",
       "      <td>0</td>\n",
       "      <td>1</td>\n",
       "      <td>...</td>\n",
       "      <td>3</td>\n",
       "      <td>1</td>\n",
       "      <td>1</td>\n",
       "      <td>9</td>\n",
       "      <td>0</td>\n",
       "      <td>1</td>\n",
       "      <td>1</td>\n",
       "      <td>0</td>\n",
       "      <td>1</td>\n",
       "      <td>0</td>\n",
       "    </tr>\n",
       "    <tr>\n",
       "      <th>2</th>\n",
       "      <td>13</td>\n",
       "      <td>0</td>\n",
       "      <td>5</td>\n",
       "      <td>4</td>\n",
       "      <td>9</td>\n",
       "      <td>1</td>\n",
       "      <td>0</td>\n",
       "      <td>0</td>\n",
       "      <td>0</td>\n",
       "      <td>1</td>\n",
       "      <td>...</td>\n",
       "      <td>4</td>\n",
       "      <td>2</td>\n",
       "      <td>7</td>\n",
       "      <td>7</td>\n",
       "      <td>0</td>\n",
       "      <td>1</td>\n",
       "      <td>1</td>\n",
       "      <td>0</td>\n",
       "      <td>1</td>\n",
       "      <td>0</td>\n",
       "    </tr>\n",
       "    <tr>\n",
       "      <th>3</th>\n",
       "      <td>16</td>\n",
       "      <td>0</td>\n",
       "      <td>0</td>\n",
       "      <td>1</td>\n",
       "      <td>2</td>\n",
       "      <td>0</td>\n",
       "      <td>0</td>\n",
       "      <td>1</td>\n",
       "      <td>0</td>\n",
       "      <td>0</td>\n",
       "      <td>...</td>\n",
       "      <td>2</td>\n",
       "      <td>2</td>\n",
       "      <td>4</td>\n",
       "      <td>9</td>\n",
       "      <td>0</td>\n",
       "      <td>0</td>\n",
       "      <td>0</td>\n",
       "      <td>0</td>\n",
       "      <td>0</td>\n",
       "      <td>0</td>\n",
       "    </tr>\n",
       "    <tr>\n",
       "      <th>4</th>\n",
       "      <td>17</td>\n",
       "      <td>0</td>\n",
       "      <td>0</td>\n",
       "      <td>2</td>\n",
       "      <td>0</td>\n",
       "      <td>1</td>\n",
       "      <td>0</td>\n",
       "      <td>1</td>\n",
       "      <td>0</td>\n",
       "      <td>0</td>\n",
       "      <td>...</td>\n",
       "      <td>3</td>\n",
       "      <td>1</td>\n",
       "      <td>1</td>\n",
       "      <td>3</td>\n",
       "      <td>0</td>\n",
       "      <td>0</td>\n",
       "      <td>0</td>\n",
       "      <td>1</td>\n",
       "      <td>1</td>\n",
       "      <td>0</td>\n",
       "    </tr>\n",
       "  </tbody>\n",
       "</table>\n",
       "<p>5 rows × 59 columns</p>\n",
       "</div>"
      ],
      "text/plain": [
       "   id  target  ps_ind_01  ps_ind_02_cat  ps_ind_03  ps_ind_04_cat  \\\n",
       "0   7       0          2              2          5              1   \n",
       "1   9       0          1              1          7              0   \n",
       "2  13       0          5              4          9              1   \n",
       "3  16       0          0              1          2              0   \n",
       "4  17       0          0              2          0              1   \n",
       "\n",
       "   ps_ind_05_cat  ps_ind_06_bin  ps_ind_07_bin  ps_ind_08_bin       ...        \\\n",
       "0              0              0              1              0       ...         \n",
       "1              0              0              0              1       ...         \n",
       "2              0              0              0              1       ...         \n",
       "3              0              1              0              0       ...         \n",
       "4              0              1              0              0       ...         \n",
       "\n",
       "   ps_calc_11  ps_calc_12  ps_calc_13  ps_calc_14  ps_calc_15_bin  \\\n",
       "0           9           1           5           8               0   \n",
       "1           3           1           1           9               0   \n",
       "2           4           2           7           7               0   \n",
       "3           2           2           4           9               0   \n",
       "4           3           1           1           3               0   \n",
       "\n",
       "   ps_calc_16_bin  ps_calc_17_bin  ps_calc_18_bin  ps_calc_19_bin  \\\n",
       "0               1               1               0               0   \n",
       "1               1               1               0               1   \n",
       "2               1               1               0               1   \n",
       "3               0               0               0               0   \n",
       "4               0               0               1               1   \n",
       "\n",
       "   ps_calc_20_bin  \n",
       "0               1  \n",
       "1               0  \n",
       "2               0  \n",
       "3               0  \n",
       "4               0  \n",
       "\n",
       "[5 rows x 59 columns]"
      ]
     },
     "execution_count": 4,
     "metadata": {},
     "output_type": "execute_result"
    }
   ],
   "source": [
    "train_df.head()"
   ]
  },
  {
   "cell_type": "code",
   "execution_count": 5,
   "metadata": {
    "collapsed": false,
    "scrolled": true
   },
   "outputs": [
    {
     "data": {
      "text/html": [
       "<div>\n",
       "<table border=\"1\" class=\"dataframe\">\n",
       "  <thead>\n",
       "    <tr style=\"text-align: right;\">\n",
       "      <th></th>\n",
       "      <th>id</th>\n",
       "      <th>target</th>\n",
       "      <th>ps_ind_01</th>\n",
       "      <th>ps_ind_02_cat</th>\n",
       "      <th>ps_ind_03</th>\n",
       "      <th>ps_ind_04_cat</th>\n",
       "      <th>ps_ind_05_cat</th>\n",
       "      <th>ps_ind_06_bin</th>\n",
       "      <th>ps_ind_07_bin</th>\n",
       "      <th>ps_ind_08_bin</th>\n",
       "      <th>...</th>\n",
       "      <th>ps_calc_11</th>\n",
       "      <th>ps_calc_12</th>\n",
       "      <th>ps_calc_13</th>\n",
       "      <th>ps_calc_14</th>\n",
       "      <th>ps_calc_15_bin</th>\n",
       "      <th>ps_calc_16_bin</th>\n",
       "      <th>ps_calc_17_bin</th>\n",
       "      <th>ps_calc_18_bin</th>\n",
       "      <th>ps_calc_19_bin</th>\n",
       "      <th>ps_calc_20_bin</th>\n",
       "    </tr>\n",
       "  </thead>\n",
       "  <tbody>\n",
       "    <tr>\n",
       "      <th>count</th>\n",
       "      <td>5.952120e+05</td>\n",
       "      <td>595212.000000</td>\n",
       "      <td>595212.000000</td>\n",
       "      <td>595212.000000</td>\n",
       "      <td>595212.000000</td>\n",
       "      <td>595212.000000</td>\n",
       "      <td>595212.000000</td>\n",
       "      <td>595212.000000</td>\n",
       "      <td>595212.000000</td>\n",
       "      <td>595212.000000</td>\n",
       "      <td>...</td>\n",
       "      <td>595212.000000</td>\n",
       "      <td>595212.000000</td>\n",
       "      <td>595212.000000</td>\n",
       "      <td>595212.000000</td>\n",
       "      <td>595212.000000</td>\n",
       "      <td>595212.000000</td>\n",
       "      <td>595212.000000</td>\n",
       "      <td>595212.000000</td>\n",
       "      <td>595212.000000</td>\n",
       "      <td>595212.000000</td>\n",
       "    </tr>\n",
       "    <tr>\n",
       "      <th>mean</th>\n",
       "      <td>7.438036e+05</td>\n",
       "      <td>0.036448</td>\n",
       "      <td>1.900378</td>\n",
       "      <td>1.358943</td>\n",
       "      <td>4.423318</td>\n",
       "      <td>0.416794</td>\n",
       "      <td>0.405188</td>\n",
       "      <td>0.393742</td>\n",
       "      <td>0.257033</td>\n",
       "      <td>0.163921</td>\n",
       "      <td>...</td>\n",
       "      <td>5.441382</td>\n",
       "      <td>1.441918</td>\n",
       "      <td>2.872288</td>\n",
       "      <td>7.539026</td>\n",
       "      <td>0.122427</td>\n",
       "      <td>0.627840</td>\n",
       "      <td>0.554182</td>\n",
       "      <td>0.287182</td>\n",
       "      <td>0.349024</td>\n",
       "      <td>0.153318</td>\n",
       "    </tr>\n",
       "    <tr>\n",
       "      <th>std</th>\n",
       "      <td>4.293678e+05</td>\n",
       "      <td>0.187401</td>\n",
       "      <td>1.983789</td>\n",
       "      <td>0.664594</td>\n",
       "      <td>2.699902</td>\n",
       "      <td>0.493311</td>\n",
       "      <td>1.350642</td>\n",
       "      <td>0.488579</td>\n",
       "      <td>0.436998</td>\n",
       "      <td>0.370205</td>\n",
       "      <td>...</td>\n",
       "      <td>2.332871</td>\n",
       "      <td>1.202963</td>\n",
       "      <td>1.694887</td>\n",
       "      <td>2.746652</td>\n",
       "      <td>0.327779</td>\n",
       "      <td>0.483381</td>\n",
       "      <td>0.497056</td>\n",
       "      <td>0.452447</td>\n",
       "      <td>0.476662</td>\n",
       "      <td>0.360295</td>\n",
       "    </tr>\n",
       "    <tr>\n",
       "      <th>min</th>\n",
       "      <td>7.000000e+00</td>\n",
       "      <td>0.000000</td>\n",
       "      <td>0.000000</td>\n",
       "      <td>-1.000000</td>\n",
       "      <td>0.000000</td>\n",
       "      <td>-1.000000</td>\n",
       "      <td>-1.000000</td>\n",
       "      <td>0.000000</td>\n",
       "      <td>0.000000</td>\n",
       "      <td>0.000000</td>\n",
       "      <td>...</td>\n",
       "      <td>0.000000</td>\n",
       "      <td>0.000000</td>\n",
       "      <td>0.000000</td>\n",
       "      <td>0.000000</td>\n",
       "      <td>0.000000</td>\n",
       "      <td>0.000000</td>\n",
       "      <td>0.000000</td>\n",
       "      <td>0.000000</td>\n",
       "      <td>0.000000</td>\n",
       "      <td>0.000000</td>\n",
       "    </tr>\n",
       "    <tr>\n",
       "      <th>25%</th>\n",
       "      <td>3.719915e+05</td>\n",
       "      <td>0.000000</td>\n",
       "      <td>0.000000</td>\n",
       "      <td>1.000000</td>\n",
       "      <td>2.000000</td>\n",
       "      <td>0.000000</td>\n",
       "      <td>0.000000</td>\n",
       "      <td>0.000000</td>\n",
       "      <td>0.000000</td>\n",
       "      <td>0.000000</td>\n",
       "      <td>...</td>\n",
       "      <td>4.000000</td>\n",
       "      <td>1.000000</td>\n",
       "      <td>2.000000</td>\n",
       "      <td>6.000000</td>\n",
       "      <td>0.000000</td>\n",
       "      <td>0.000000</td>\n",
       "      <td>0.000000</td>\n",
       "      <td>0.000000</td>\n",
       "      <td>0.000000</td>\n",
       "      <td>0.000000</td>\n",
       "    </tr>\n",
       "    <tr>\n",
       "      <th>50%</th>\n",
       "      <td>7.435475e+05</td>\n",
       "      <td>0.000000</td>\n",
       "      <td>1.000000</td>\n",
       "      <td>1.000000</td>\n",
       "      <td>4.000000</td>\n",
       "      <td>0.000000</td>\n",
       "      <td>0.000000</td>\n",
       "      <td>0.000000</td>\n",
       "      <td>0.000000</td>\n",
       "      <td>0.000000</td>\n",
       "      <td>...</td>\n",
       "      <td>5.000000</td>\n",
       "      <td>1.000000</td>\n",
       "      <td>3.000000</td>\n",
       "      <td>7.000000</td>\n",
       "      <td>0.000000</td>\n",
       "      <td>1.000000</td>\n",
       "      <td>1.000000</td>\n",
       "      <td>0.000000</td>\n",
       "      <td>0.000000</td>\n",
       "      <td>0.000000</td>\n",
       "    </tr>\n",
       "    <tr>\n",
       "      <th>75%</th>\n",
       "      <td>1.115549e+06</td>\n",
       "      <td>0.000000</td>\n",
       "      <td>3.000000</td>\n",
       "      <td>2.000000</td>\n",
       "      <td>6.000000</td>\n",
       "      <td>1.000000</td>\n",
       "      <td>0.000000</td>\n",
       "      <td>1.000000</td>\n",
       "      <td>1.000000</td>\n",
       "      <td>0.000000</td>\n",
       "      <td>...</td>\n",
       "      <td>7.000000</td>\n",
       "      <td>2.000000</td>\n",
       "      <td>4.000000</td>\n",
       "      <td>9.000000</td>\n",
       "      <td>0.000000</td>\n",
       "      <td>1.000000</td>\n",
       "      <td>1.000000</td>\n",
       "      <td>1.000000</td>\n",
       "      <td>1.000000</td>\n",
       "      <td>0.000000</td>\n",
       "    </tr>\n",
       "    <tr>\n",
       "      <th>max</th>\n",
       "      <td>1.488027e+06</td>\n",
       "      <td>1.000000</td>\n",
       "      <td>7.000000</td>\n",
       "      <td>4.000000</td>\n",
       "      <td>11.000000</td>\n",
       "      <td>1.000000</td>\n",
       "      <td>6.000000</td>\n",
       "      <td>1.000000</td>\n",
       "      <td>1.000000</td>\n",
       "      <td>1.000000</td>\n",
       "      <td>...</td>\n",
       "      <td>19.000000</td>\n",
       "      <td>10.000000</td>\n",
       "      <td>13.000000</td>\n",
       "      <td>23.000000</td>\n",
       "      <td>1.000000</td>\n",
       "      <td>1.000000</td>\n",
       "      <td>1.000000</td>\n",
       "      <td>1.000000</td>\n",
       "      <td>1.000000</td>\n",
       "      <td>1.000000</td>\n",
       "    </tr>\n",
       "  </tbody>\n",
       "</table>\n",
       "<p>8 rows × 59 columns</p>\n",
       "</div>"
      ],
      "text/plain": [
       "                 id         target      ps_ind_01  ps_ind_02_cat  \\\n",
       "count  5.952120e+05  595212.000000  595212.000000  595212.000000   \n",
       "mean   7.438036e+05       0.036448       1.900378       1.358943   \n",
       "std    4.293678e+05       0.187401       1.983789       0.664594   \n",
       "min    7.000000e+00       0.000000       0.000000      -1.000000   \n",
       "25%    3.719915e+05       0.000000       0.000000       1.000000   \n",
       "50%    7.435475e+05       0.000000       1.000000       1.000000   \n",
       "75%    1.115549e+06       0.000000       3.000000       2.000000   \n",
       "max    1.488027e+06       1.000000       7.000000       4.000000   \n",
       "\n",
       "           ps_ind_03  ps_ind_04_cat  ps_ind_05_cat  ps_ind_06_bin  \\\n",
       "count  595212.000000  595212.000000  595212.000000  595212.000000   \n",
       "mean        4.423318       0.416794       0.405188       0.393742   \n",
       "std         2.699902       0.493311       1.350642       0.488579   \n",
       "min         0.000000      -1.000000      -1.000000       0.000000   \n",
       "25%         2.000000       0.000000       0.000000       0.000000   \n",
       "50%         4.000000       0.000000       0.000000       0.000000   \n",
       "75%         6.000000       1.000000       0.000000       1.000000   \n",
       "max        11.000000       1.000000       6.000000       1.000000   \n",
       "\n",
       "       ps_ind_07_bin  ps_ind_08_bin       ...           ps_calc_11  \\\n",
       "count  595212.000000  595212.000000       ...        595212.000000   \n",
       "mean        0.257033       0.163921       ...             5.441382   \n",
       "std         0.436998       0.370205       ...             2.332871   \n",
       "min         0.000000       0.000000       ...             0.000000   \n",
       "25%         0.000000       0.000000       ...             4.000000   \n",
       "50%         0.000000       0.000000       ...             5.000000   \n",
       "75%         1.000000       0.000000       ...             7.000000   \n",
       "max         1.000000       1.000000       ...            19.000000   \n",
       "\n",
       "          ps_calc_12     ps_calc_13     ps_calc_14  ps_calc_15_bin  \\\n",
       "count  595212.000000  595212.000000  595212.000000   595212.000000   \n",
       "mean        1.441918       2.872288       7.539026        0.122427   \n",
       "std         1.202963       1.694887       2.746652        0.327779   \n",
       "min         0.000000       0.000000       0.000000        0.000000   \n",
       "25%         1.000000       2.000000       6.000000        0.000000   \n",
       "50%         1.000000       3.000000       7.000000        0.000000   \n",
       "75%         2.000000       4.000000       9.000000        0.000000   \n",
       "max        10.000000      13.000000      23.000000        1.000000   \n",
       "\n",
       "       ps_calc_16_bin  ps_calc_17_bin  ps_calc_18_bin  ps_calc_19_bin  \\\n",
       "count   595212.000000   595212.000000   595212.000000   595212.000000   \n",
       "mean         0.627840        0.554182        0.287182        0.349024   \n",
       "std          0.483381        0.497056        0.452447        0.476662   \n",
       "min          0.000000        0.000000        0.000000        0.000000   \n",
       "25%          0.000000        0.000000        0.000000        0.000000   \n",
       "50%          1.000000        1.000000        0.000000        0.000000   \n",
       "75%          1.000000        1.000000        1.000000        1.000000   \n",
       "max          1.000000        1.000000        1.000000        1.000000   \n",
       "\n",
       "       ps_calc_20_bin  \n",
       "count   595212.000000  \n",
       "mean         0.153318  \n",
       "std          0.360295  \n",
       "min          0.000000  \n",
       "25%          0.000000  \n",
       "50%          0.000000  \n",
       "75%          0.000000  \n",
       "max          1.000000  \n",
       "\n",
       "[8 rows x 59 columns]"
      ]
     },
     "execution_count": 5,
     "metadata": {},
     "output_type": "execute_result"
    }
   ],
   "source": [
    "train_df.describe()"
   ]
  },
  {
   "cell_type": "markdown",
   "metadata": {},
   "source": [
    "### To get the values of a Series (without the index) as numpy array use the .values attribute"
   ]
  },
  {
   "cell_type": "code",
   "execution_count": 6,
   "metadata": {
    "collapsed": false
   },
   "outputs": [
    {
     "name": "stdout",
     "output_type": "stream",
     "text": [
      "[  7.           0.           2.           2.           5.           1.           0.\n",
      "   0.           1.           0.           0.           0.           0.           0.\n",
      "   0.           0.          11.           0.           1.           0.\n",
      "   0.7          0.2          0.71807033  10.           1.          -1.           0.\n",
      "   1.           4.           1.           0.           0.           1.          12.\n",
      "   2.           0.4          0.88367892   0.37080992   3.60555128   0.6\n",
      "   0.5          0.2          3.           1.          10.           1.          10.\n",
      "   1.           5.           9.           1.           5.           8.           0.\n",
      "   1.           1.           0.           0.           1.        ]\n",
      "<class 'numpy.ndarray'>\n",
      "<class 'pandas.core.series.Series'>\n"
     ]
    }
   ],
   "source": [
    "row_0 = train_df.iloc[0]\n",
    "print(row_0.values)\n",
    "print(type(row_0.values))\n",
    "print(type(row_0))"
   ]
  },
  {
   "cell_type": "code",
   "execution_count": 7,
   "metadata": {
    "collapsed": false,
    "scrolled": true
   },
   "outputs": [
    {
     "data": {
      "text/plain": [
       "Index(['id', 'target', 'ps_ind_01', 'ps_ind_02_cat', 'ps_ind_03',\n",
       "       'ps_ind_04_cat', 'ps_ind_05_cat', 'ps_ind_06_bin', 'ps_ind_07_bin',\n",
       "       'ps_ind_08_bin', 'ps_ind_09_bin', 'ps_ind_10_bin', 'ps_ind_11_bin',\n",
       "       'ps_ind_12_bin', 'ps_ind_13_bin', 'ps_ind_14', 'ps_ind_15',\n",
       "       'ps_ind_16_bin', 'ps_ind_17_bin', 'ps_ind_18_bin', 'ps_reg_01',\n",
       "       'ps_reg_02', 'ps_reg_03', 'ps_car_01_cat', 'ps_car_02_cat',\n",
       "       'ps_car_03_cat', 'ps_car_04_cat', 'ps_car_05_cat', 'ps_car_06_cat',\n",
       "       'ps_car_07_cat', 'ps_car_08_cat', 'ps_car_09_cat', 'ps_car_10_cat',\n",
       "       'ps_car_11_cat', 'ps_car_11', 'ps_car_12', 'ps_car_13', 'ps_car_14',\n",
       "       'ps_car_15', 'ps_calc_01', 'ps_calc_02', 'ps_calc_03', 'ps_calc_04',\n",
       "       'ps_calc_05', 'ps_calc_06', 'ps_calc_07', 'ps_calc_08', 'ps_calc_09',\n",
       "       'ps_calc_10', 'ps_calc_11', 'ps_calc_12', 'ps_calc_13', 'ps_calc_14',\n",
       "       'ps_calc_15_bin', 'ps_calc_16_bin', 'ps_calc_17_bin', 'ps_calc_18_bin',\n",
       "       'ps_calc_19_bin', 'ps_calc_20_bin'],\n",
       "      dtype='object')"
      ]
     },
     "execution_count": 7,
     "metadata": {},
     "output_type": "execute_result"
    }
   ],
   "source": [
    "#All the columns\n",
    "train_df.columns"
   ]
  },
  {
   "cell_type": "code",
   "execution_count": 8,
   "metadata": {
    "collapsed": false
   },
   "outputs": [
    {
     "data": {
      "text/plain": [
       "False"
      ]
     },
     "execution_count": 8,
     "metadata": {},
     "output_type": "execute_result"
    }
   ],
   "source": [
    "np.isnan(train_df['ps_reg_03'].values).any()"
   ]
  },
  {
   "cell_type": "code",
   "execution_count": 9,
   "metadata": {
    "collapsed": false
   },
   "outputs": [
    {
     "data": {
      "text/plain": [
       "RangeIndex(start=0, stop=595212, step=1)"
      ]
     },
     "execution_count": 9,
     "metadata": {},
     "output_type": "execute_result"
    }
   ],
   "source": [
    "train_df.index"
   ]
  },
  {
   "cell_type": "code",
   "execution_count": 10,
   "metadata": {
    "collapsed": true
   },
   "outputs": [],
   "source": [
    "test_df = pd.read_csv('data/test.csv')"
   ]
  },
  {
   "cell_type": "code",
   "execution_count": 11,
   "metadata": {
    "collapsed": false
   },
   "outputs": [
    {
     "data": {
      "text/html": [
       "<div>\n",
       "<table border=\"1\" class=\"dataframe\">\n",
       "  <thead>\n",
       "    <tr style=\"text-align: right;\">\n",
       "      <th></th>\n",
       "      <th>id</th>\n",
       "      <th>ps_ind_01</th>\n",
       "      <th>ps_ind_02_cat</th>\n",
       "      <th>ps_ind_03</th>\n",
       "      <th>ps_ind_04_cat</th>\n",
       "      <th>ps_ind_05_cat</th>\n",
       "      <th>ps_ind_06_bin</th>\n",
       "      <th>ps_ind_07_bin</th>\n",
       "      <th>ps_ind_08_bin</th>\n",
       "      <th>ps_ind_09_bin</th>\n",
       "      <th>...</th>\n",
       "      <th>ps_calc_11</th>\n",
       "      <th>ps_calc_12</th>\n",
       "      <th>ps_calc_13</th>\n",
       "      <th>ps_calc_14</th>\n",
       "      <th>ps_calc_15_bin</th>\n",
       "      <th>ps_calc_16_bin</th>\n",
       "      <th>ps_calc_17_bin</th>\n",
       "      <th>ps_calc_18_bin</th>\n",
       "      <th>ps_calc_19_bin</th>\n",
       "      <th>ps_calc_20_bin</th>\n",
       "    </tr>\n",
       "  </thead>\n",
       "  <tbody>\n",
       "    <tr>\n",
       "      <th>0</th>\n",
       "      <td>0</td>\n",
       "      <td>0</td>\n",
       "      <td>1</td>\n",
       "      <td>8</td>\n",
       "      <td>1</td>\n",
       "      <td>0</td>\n",
       "      <td>0</td>\n",
       "      <td>1</td>\n",
       "      <td>0</td>\n",
       "      <td>0</td>\n",
       "      <td>...</td>\n",
       "      <td>1</td>\n",
       "      <td>1</td>\n",
       "      <td>1</td>\n",
       "      <td>12</td>\n",
       "      <td>0</td>\n",
       "      <td>1</td>\n",
       "      <td>1</td>\n",
       "      <td>0</td>\n",
       "      <td>0</td>\n",
       "      <td>1</td>\n",
       "    </tr>\n",
       "    <tr>\n",
       "      <th>1</th>\n",
       "      <td>1</td>\n",
       "      <td>4</td>\n",
       "      <td>2</td>\n",
       "      <td>5</td>\n",
       "      <td>1</td>\n",
       "      <td>0</td>\n",
       "      <td>0</td>\n",
       "      <td>0</td>\n",
       "      <td>0</td>\n",
       "      <td>1</td>\n",
       "      <td>...</td>\n",
       "      <td>2</td>\n",
       "      <td>0</td>\n",
       "      <td>3</td>\n",
       "      <td>10</td>\n",
       "      <td>0</td>\n",
       "      <td>0</td>\n",
       "      <td>1</td>\n",
       "      <td>1</td>\n",
       "      <td>0</td>\n",
       "      <td>1</td>\n",
       "    </tr>\n",
       "    <tr>\n",
       "      <th>2</th>\n",
       "      <td>2</td>\n",
       "      <td>5</td>\n",
       "      <td>1</td>\n",
       "      <td>3</td>\n",
       "      <td>0</td>\n",
       "      <td>0</td>\n",
       "      <td>0</td>\n",
       "      <td>0</td>\n",
       "      <td>0</td>\n",
       "      <td>1</td>\n",
       "      <td>...</td>\n",
       "      <td>4</td>\n",
       "      <td>0</td>\n",
       "      <td>2</td>\n",
       "      <td>4</td>\n",
       "      <td>0</td>\n",
       "      <td>0</td>\n",
       "      <td>0</td>\n",
       "      <td>0</td>\n",
       "      <td>0</td>\n",
       "      <td>0</td>\n",
       "    </tr>\n",
       "    <tr>\n",
       "      <th>3</th>\n",
       "      <td>3</td>\n",
       "      <td>0</td>\n",
       "      <td>1</td>\n",
       "      <td>6</td>\n",
       "      <td>0</td>\n",
       "      <td>0</td>\n",
       "      <td>1</td>\n",
       "      <td>0</td>\n",
       "      <td>0</td>\n",
       "      <td>0</td>\n",
       "      <td>...</td>\n",
       "      <td>5</td>\n",
       "      <td>1</td>\n",
       "      <td>0</td>\n",
       "      <td>5</td>\n",
       "      <td>1</td>\n",
       "      <td>0</td>\n",
       "      <td>1</td>\n",
       "      <td>0</td>\n",
       "      <td>0</td>\n",
       "      <td>0</td>\n",
       "    </tr>\n",
       "    <tr>\n",
       "      <th>4</th>\n",
       "      <td>4</td>\n",
       "      <td>5</td>\n",
       "      <td>1</td>\n",
       "      <td>7</td>\n",
       "      <td>0</td>\n",
       "      <td>0</td>\n",
       "      <td>0</td>\n",
       "      <td>0</td>\n",
       "      <td>0</td>\n",
       "      <td>1</td>\n",
       "      <td>...</td>\n",
       "      <td>4</td>\n",
       "      <td>0</td>\n",
       "      <td>0</td>\n",
       "      <td>4</td>\n",
       "      <td>0</td>\n",
       "      <td>1</td>\n",
       "      <td>1</td>\n",
       "      <td>0</td>\n",
       "      <td>0</td>\n",
       "      <td>1</td>\n",
       "    </tr>\n",
       "  </tbody>\n",
       "</table>\n",
       "<p>5 rows × 58 columns</p>\n",
       "</div>"
      ],
      "text/plain": [
       "   id  ps_ind_01  ps_ind_02_cat  ps_ind_03  ps_ind_04_cat  ps_ind_05_cat  \\\n",
       "0   0          0              1          8              1              0   \n",
       "1   1          4              2          5              1              0   \n",
       "2   2          5              1          3              0              0   \n",
       "3   3          0              1          6              0              0   \n",
       "4   4          5              1          7              0              0   \n",
       "\n",
       "   ps_ind_06_bin  ps_ind_07_bin  ps_ind_08_bin  ps_ind_09_bin       ...        \\\n",
       "0              0              1              0              0       ...         \n",
       "1              0              0              0              1       ...         \n",
       "2              0              0              0              1       ...         \n",
       "3              1              0              0              0       ...         \n",
       "4              0              0              0              1       ...         \n",
       "\n",
       "   ps_calc_11  ps_calc_12  ps_calc_13  ps_calc_14  ps_calc_15_bin  \\\n",
       "0           1           1           1          12               0   \n",
       "1           2           0           3          10               0   \n",
       "2           4           0           2           4               0   \n",
       "3           5           1           0           5               1   \n",
       "4           4           0           0           4               0   \n",
       "\n",
       "   ps_calc_16_bin  ps_calc_17_bin  ps_calc_18_bin  ps_calc_19_bin  \\\n",
       "0               1               1               0               0   \n",
       "1               0               1               1               0   \n",
       "2               0               0               0               0   \n",
       "3               0               1               0               0   \n",
       "4               1               1               0               0   \n",
       "\n",
       "   ps_calc_20_bin  \n",
       "0               1  \n",
       "1               1  \n",
       "2               0  \n",
       "3               0  \n",
       "4               1  \n",
       "\n",
       "[5 rows x 58 columns]"
      ]
     },
     "execution_count": 11,
     "metadata": {},
     "output_type": "execute_result"
    }
   ],
   "source": [
    "test_df.head()"
   ]
  },
  {
   "cell_type": "code",
   "execution_count": 12,
   "metadata": {
    "collapsed": false
   },
   "outputs": [
    {
     "data": {
      "text/plain": [
       "Index(['id', 'ps_ind_01', 'ps_ind_02_cat', 'ps_ind_03', 'ps_ind_04_cat',\n",
       "       'ps_ind_05_cat', 'ps_ind_06_bin', 'ps_ind_07_bin', 'ps_ind_08_bin',\n",
       "       'ps_ind_09_bin', 'ps_ind_10_bin', 'ps_ind_11_bin', 'ps_ind_12_bin',\n",
       "       'ps_ind_13_bin', 'ps_ind_14', 'ps_ind_15', 'ps_ind_16_bin',\n",
       "       'ps_ind_17_bin', 'ps_ind_18_bin', 'ps_reg_01', 'ps_reg_02', 'ps_reg_03',\n",
       "       'ps_car_01_cat', 'ps_car_02_cat', 'ps_car_03_cat', 'ps_car_04_cat',\n",
       "       'ps_car_05_cat', 'ps_car_06_cat', 'ps_car_07_cat', 'ps_car_08_cat',\n",
       "       'ps_car_09_cat', 'ps_car_10_cat', 'ps_car_11_cat', 'ps_car_11',\n",
       "       'ps_car_12', 'ps_car_13', 'ps_car_14', 'ps_car_15', 'ps_calc_01',\n",
       "       'ps_calc_02', 'ps_calc_03', 'ps_calc_04', 'ps_calc_05', 'ps_calc_06',\n",
       "       'ps_calc_07', 'ps_calc_08', 'ps_calc_09', 'ps_calc_10', 'ps_calc_11',\n",
       "       'ps_calc_12', 'ps_calc_13', 'ps_calc_14', 'ps_calc_15_bin',\n",
       "       'ps_calc_16_bin', 'ps_calc_17_bin', 'ps_calc_18_bin', 'ps_calc_19_bin',\n",
       "       'ps_calc_20_bin'],\n",
       "      dtype='object')"
      ]
     },
     "execution_count": 12,
     "metadata": {},
     "output_type": "execute_result"
    }
   ],
   "source": [
    "test_df.columns"
   ]
  },
  {
   "cell_type": "code",
   "execution_count": 13,
   "metadata": {
    "collapsed": false
   },
   "outputs": [
    {
     "data": {
      "text/plain": [
       "(892816, 58)"
      ]
     },
     "execution_count": 13,
     "metadata": {},
     "output_type": "execute_result"
    }
   ],
   "source": [
    "test_df.shape"
   ]
  },
  {
   "cell_type": "code",
   "execution_count": 14,
   "metadata": {
    "collapsed": false
   },
   "outputs": [],
   "source": [
    "submit_df = pd.read_csv('data/sample_submission.csv')"
   ]
  },
  {
   "cell_type": "code",
   "execution_count": 15,
   "metadata": {
    "collapsed": false
   },
   "outputs": [
    {
     "data": {
      "text/plain": [
       "(892816, 2)"
      ]
     },
     "execution_count": 15,
     "metadata": {},
     "output_type": "execute_result"
    }
   ],
   "source": [
    "submit_df.shape"
   ]
  },
  {
   "cell_type": "code",
   "execution_count": 16,
   "metadata": {
    "collapsed": false
   },
   "outputs": [
    {
     "data": {
      "text/html": [
       "<div>\n",
       "<table border=\"1\" class=\"dataframe\">\n",
       "  <thead>\n",
       "    <tr style=\"text-align: right;\">\n",
       "      <th></th>\n",
       "      <th>id</th>\n",
       "      <th>target</th>\n",
       "    </tr>\n",
       "  </thead>\n",
       "  <tbody>\n",
       "    <tr>\n",
       "      <th>0</th>\n",
       "      <td>0</td>\n",
       "      <td>0.0364</td>\n",
       "    </tr>\n",
       "    <tr>\n",
       "      <th>1</th>\n",
       "      <td>1</td>\n",
       "      <td>0.0364</td>\n",
       "    </tr>\n",
       "    <tr>\n",
       "      <th>2</th>\n",
       "      <td>2</td>\n",
       "      <td>0.0364</td>\n",
       "    </tr>\n",
       "    <tr>\n",
       "      <th>3</th>\n",
       "      <td>3</td>\n",
       "      <td>0.0364</td>\n",
       "    </tr>\n",
       "    <tr>\n",
       "      <th>4</th>\n",
       "      <td>4</td>\n",
       "      <td>0.0364</td>\n",
       "    </tr>\n",
       "  </tbody>\n",
       "</table>\n",
       "</div>"
      ],
      "text/plain": [
       "   id  target\n",
       "0   0  0.0364\n",
       "1   1  0.0364\n",
       "2   2  0.0364\n",
       "3   3  0.0364\n",
       "4   4  0.0364"
      ]
     },
     "execution_count": 16,
     "metadata": {},
     "output_type": "execute_result"
    }
   ],
   "source": [
    "submit_df.head()"
   ]
  },
  {
   "cell_type": "code",
   "execution_count": 17,
   "metadata": {
    "collapsed": false
   },
   "outputs": [],
   "source": [
    "target_df = train_df['target']"
   ]
  },
  {
   "cell_type": "code",
   "execution_count": 18,
   "metadata": {
    "collapsed": false
   },
   "outputs": [
    {
     "data": {
      "text/plain": [
       "pandas.core.series.Series"
      ]
     },
     "execution_count": 18,
     "metadata": {},
     "output_type": "execute_result"
    }
   ],
   "source": [
    "type(target_df)"
   ]
  },
  {
   "cell_type": "code",
   "execution_count": 19,
   "metadata": {
    "collapsed": false
   },
   "outputs": [
    {
     "data": {
      "text/plain": [
       "array([[<matplotlib.axes._subplots.AxesSubplot object at 0x11d34cef0>]], dtype=object)"
      ]
     },
     "execution_count": 19,
     "metadata": {},
     "output_type": "execute_result"
    },
    {
     "data": {
      "image/png": "[encoded data removed]",
      "text/plain": [
       "<matplotlib.figure.Figure at 0x11d34c9b0>"
      ]
     },
     "metadata": {},
     "output_type": "display_data"
    }
   ],
   "source": [
    "#In training set target is only 0 or 1\n",
    "train_df.hist('target')"
   ]
  },
  {
   "cell_type": "code",
   "execution_count": 20,
   "metadata": {
    "collapsed": false
   },
   "outputs": [
    {
     "name": "stdout",
     "output_type": "stream",
     "text": [
      "21694\n"
     ]
    }
   ],
   "source": [
    "probab_1 = target_df[ target_df == 1].count()\n",
    "print(probab_1)"
   ]
  },
  {
   "cell_type": "code",
   "execution_count": 21,
   "metadata": {
    "collapsed": false
   },
   "outputs": [
    {
     "name": "stdout",
     "output_type": "stream",
     "text": [
      "573518\n"
     ]
    }
   ],
   "source": [
    "probab_0 = target_df[ target_df == 0].count()\n",
    "print(probab_0)"
   ]
  },
  {
   "cell_type": "code",
   "execution_count": 22,
   "metadata": {
    "collapsed": false
   },
   "outputs": [
    {
     "name": "stdout",
     "output_type": "stream",
     "text": [
      "595212\n"
     ]
    }
   ],
   "source": [
    "total_count = target_df.count()\n",
    "print(total_count)"
   ]
  },
  {
   "cell_type": "markdown",
   "metadata": {},
   "source": [
    "# Investigate columns with missing values (-1)\n",
    "### Code cell below, prints out all columns with missing values\n",
    "### and the number of records that have missing values\n",
    "### Also trying to see for all the records that have missing values per column, how many are of target 0 vs 1"
   ]
  },
  {
   "cell_type": "code",
   "execution_count": 23,
   "metadata": {
    "collapsed": false,
    "scrolled": true
   },
   "outputs": [
    {
     "name": "stdout",
     "output_type": "stream",
     "text": [
      "column          | count      |    percent% |   target_1 |   target_0\n",
      "-------------------------------------------------------------------------\n",
      "ps_ind_02_cat   |        216 | 0.04% |         40 |        176\n",
      "ps_ind_04_cat   |         83 | 0.01% |         33 |         50\n",
      "ps_ind_05_cat   |       5809 | 0.98% |        484 |       5325\n",
      "ps_reg_03       |     107772 | 18.11% |       3060 |     104712\n",
      "ps_car_01_cat   |        107 | 0.02% |         34 |         73\n",
      "ps_car_02_cat   |          5 | 0.00% |          0 |          5\n",
      "ps_car_03_cat   |     411231 | 69.09% |      13450 |     397781\n",
      "ps_car_05_cat   |     266551 | 44.78% |       8452 |     258099\n",
      "ps_car_07_cat   |      11489 | 1.93% |        898 |      10591\n",
      "ps_car_09_cat   |        569 | 0.10% |         52 |        517\n",
      "ps_car_11       |          5 | 0.00% |          0 |          5\n",
      "ps_car_12       |          1 | 0.00% |          0 |          1\n",
      "ps_car_14       |      42620 | 7.16% |       1723 |      40897\n"
     ]
    }
   ],
   "source": [
    "print(\"{:<15} | {:10} | {:>10}% | {:>10} | {:>10}\".format(\"column\",\"count\",\"percent\",\"target_1\",\"target_0\"))\n",
    "print(\"-------------------------------------------------------------------------\")\n",
    "for column in train_df.columns:\n",
    "    filter_nan = train_df[column] == -1\n",
    "    filter_target_1 = train_df['target'] == 1\n",
    "    filter_target_0 = train_df['target'] == 0\n",
    "    count = train_df[filter_nan][column].count()\n",
    "    count_target_1 = train_df[filter_target_1 & filter_nan]['target'].count()\n",
    "    count_target_0 = train_df[filter_target_0 & filter_nan]['target'].count()\n",
    "    #print(count_target_0)\n",
    "    percentage = count/total_count * 100;\n",
    "    if (percentage > 0.0):\n",
    "        print(\"{:<15} | {:10} | {:>4.2f}% | {:10} | {:10}\".format(column,count,percentage,count_target_1,count_target_0))\n"
   ]
  },
  {
   "cell_type": "markdown",
   "metadata": {},
   "source": [
    "### 2 columns ps_car_03_cat , ps_car_05_cat have a large number of missing values ~70 and ~45% respectively\n",
    "### The _cat values are distinct integers (not continuous floating point values)\n",
    "### Options to investigate: \n",
    "* Remove column entirely\n",
    "* Fill with random integer value from those observed\n",
    "* Fill with random integer value but with probability distribution based on data\n",
    "* Fill with integer value most frequent\n",
    "* Leave at -1 ?\n",
    "* Fill with average, rounded to nearest integer\n",
    "* Remove records that have missing values, not applicable for the high % missing with the 2 columns above, but there are other columns that have a missing value only in a handful of records"
   ]
  },
  {
   "cell_type": "markdown",
   "metadata": {},
   "source": [
    "### Print unique values for columns with missing values above"
   ]
  },
  {
   "cell_type": "code",
   "execution_count": 24,
   "metadata": {
    "collapsed": false
   },
   "outputs": [
    {
     "data": {
      "text/plain": [
       "array([-1,  0,  1,  2,  3])"
      ]
     },
     "execution_count": 24,
     "metadata": {},
     "output_type": "execute_result"
    }
   ],
   "source": [
    "a = train_df['ps_car_11'].unique()\n",
    "np.sort(a)"
   ]
  },
  {
   "cell_type": "code",
   "execution_count": 25,
   "metadata": {
    "collapsed": false,
    "scrolled": true
   },
   "outputs": [
    {
     "name": "stdout",
     "output_type": "stream",
     "text": [
      "column          | unique-values        | mean                \n",
      "-------------------------------------------------------------------------\n",
      "ps_ind_02_cat  |  1.3589426960477948\n",
      "ps_ind_04_cat  |  0.41679435226440326\n",
      "ps_ind_05_cat  |  0.40518840345960766\n",
      "ps_reg_03  |  0.5511018410425643\n",
      "ps_car_01_cat  |  8.29593321371209\n",
      "ps_car_02_cat  |  0.8299311841831146\n",
      "ps_car_03_cat  |  -0.504899094776315\n",
      "ps_car_05_cat  |  -0.1577320349724132\n",
      "ps_car_07_cat  |  0.9100270155843632\n",
      "ps_car_09_cat  |  1.3288895385173687\n",
      "ps_car_11  |  2.346071651781214\n",
      "ps_car_12  |  0.37994481509217026\n",
      "ps_car_14  |  0.2762562741368838\n"
     ]
    }
   ],
   "source": [
    "print(\"{:<15} | {:20} | {:20}\".format(\"column\",\"unique-values\",\"mean\"))\n",
    "print(\"-------------------------------------------------------------------------\")\n",
    "for column in train_df.columns:\n",
    "    filter_nan = train_df[column] == -1\n",
    "    count = train_df[filter_nan][column].count()\n",
    "    if count > 0:\n",
    "        #unique_values = train_df[column].unique()\n",
    "        mean = train_df[column].mean()\n",
    "        print(column,' | ', mean)"
   ]
  },
  {
   "cell_type": "markdown",
   "metadata": {},
   "source": [
    "### For columns with missing values, what are unique values when target is 0 and target is 1"
   ]
  },
  {
   "cell_type": "code",
   "execution_count": 26,
   "metadata": {
    "collapsed": false,
    "scrolled": false
   },
   "outputs": [
    {
     "name": "stdout",
     "output_type": "stream",
     "text": [
      "column          | uniq-val-1           | uniq-val-0          \n",
      "-------------------------------------------------------------------------\n",
      "ps_ind_02_cat  |  [1 2 3 4]  |  [1 2 3 4]\n",
      "ps_ind_04_cat  |  [0 1]  |  [0 1]\n",
      "ps_ind_05_cat  |  [0 1 2 3 4 5 6]  |  [0 1 2 3 4 5 6]\n",
      "ps_reg_03  |  [ 0.25372229  0.25617377  0.25860201 ...,  2.86356421  2.94745653\n",
      "  3.19775312]  |  [ 0.06123724  0.075       0.13228757 ...,  3.49079146  3.78772689\n",
      "  4.03794502]\n",
      "ps_car_01_cat  |  [ 0  1  2  3  4  5  6  7  8  9 10 11]  |  [ 0  1  2  3  4  5  6  7  8  9 10 11]\n",
      "ps_car_02_cat  |  [0 1]  |  [0 1]\n",
      "ps_car_03_cat  |  [0 1]  |  [0 1]\n",
      "ps_car_05_cat  |  [0 1]  |  [0 1]\n",
      "ps_car_07_cat  |  [0 1]  |  [0 1]\n",
      "ps_car_09_cat  |  [0 1 2 3 4]  |  [0 1 2 3 4]\n",
      "ps_car_11  |  [0 1 2 3]  |  [0 1 2 3]\n",
      "ps_car_12  |  [ 0.14142136  0.31527766  0.31559468  0.31575307  0.31606961  0.31622777\n",
      "  0.33166248  0.3524202   0.36055513  0.36878178  0.37255872  0.3726929\n",
      "  0.37416574  0.38639358  0.38691084  0.38729833  0.39433488  0.39471509\n",
      "  0.39724048  0.39749214  0.39799497  0.39837169  0.39862263  0.39937451\n",
      "  0.39949969  0.39962482  0.39974992  0.39987498  0.4         0.40841156\n",
      "  0.41231056  0.41797129  0.42178193  0.42201896  0.42355637  0.4236744\n",
      "  0.4237924   0.4240283   0.4241462   0.42426407  0.43566042  0.43588989\n",
      "  0.44384682  0.44542115  0.44553339  0.44586994  0.44598206  0.44620623\n",
      "  0.44654227  0.44665423  0.44687806  0.44698993  0.44710178  0.4472136\n",
      "  0.46368092  0.46529561  0.46882833  0.46904158  0.4747631   0.47539457\n",
      "  0.47958315  0.48487112  0.48969378  0.48989795  0.49769469  0.49929951\n",
      "  0.49939964  0.49949975  0.49969991  0.5         0.50049975  0.51536395\n",
      "  0.51961524  0.52763624  0.52896125  0.52915026  0.53786615  0.54470175\n",
      "  0.54516053  0.54607692  0.54644304  0.54726593  0.54772256  0.56559703\n",
      "  0.56568542  0.57445626  0.5745433   0.58309519  0.59160798  0.6\n",
      "  0.60827625  0.61465437  0.61571097  0.6164414   0.6244998   0.63087241\n",
      "  0.63213923  0.63245553  0.64591021  0.64791975  0.64799691  0.64807407\n",
      "  0.65559134  0.6556676   0.66317419  0.66332496  0.678233    0.69282032\n",
      "  0.70710678  0.75498344  0.76811457  0.78102497  0.78740079  0.81853528\n",
      "  1.26491106]  |  [ 0.1         0.14142136  0.14832397  0.17320508  0.28284271  0.3088689\n",
      "  0.31527766  0.31559468  0.31575307  0.31606961  0.31622777  0.33166248\n",
      "  0.34641016  0.35199432  0.3524202   0.36        0.36041643  0.36055513\n",
      "  0.36878178  0.37040518  0.37255872  0.3726929   0.37416574  0.38639358\n",
      "  0.38691084  0.38729833  0.39433488  0.39471509  0.39522146  0.39560081\n",
      "  0.39724048  0.39749214  0.39761791  0.39799497  0.39812058  0.39837169\n",
      "  0.39862263  0.39874804  0.39899875  0.39937451  0.39949969  0.39962482\n",
      "  0.39974992  0.39987498  0.4         0.40841156  0.41231056  0.41797129\n",
      "  0.41964271  0.42178193  0.42201896  0.42355637  0.4236744   0.4237924\n",
      "  0.4240283   0.4241462   0.42426407  0.42825226  0.43566042  0.43588989\n",
      "  0.44384682  0.44418465  0.44542115  0.44553339  0.44586994  0.44598206\n",
      "  0.44620623  0.44654227  0.44665423  0.44676616  0.44687806  0.44698993\n",
      "  0.44710178  0.4472136   0.46368092  0.46432747  0.46518813  0.46593991\n",
      "  0.46882833  0.46904158  0.4747631   0.47539457  0.47822589  0.47906158\n",
      "  0.47958315  0.48        0.48487112  0.48518038  0.48969378  0.48989795\n",
      "  0.49457052  0.49568135  0.49638695  0.49769469  0.49929951  0.49939964\n",
      "  0.49949975  0.49969991  0.49979996  0.5         0.50049975  0.50990195\n",
      "  0.5105879   0.51536395  0.51961524  0.52640289  0.52763624  0.52810984\n",
      "  0.52848841  0.52896125  0.52905576  0.52915026  0.53244718  0.53786615\n",
      "  0.53851648  0.54378304  0.54424259  0.54470175  0.54516053  0.54580216\n",
      "  0.54607692  0.54644304  0.54662601  0.54726593  0.54735729  0.54744863\n",
      "  0.54772256  0.56249444  0.56559703  0.56568542  0.57445626  0.5745433\n",
      "  0.58120564  0.58309519  0.59143892  0.59160798  0.6         0.60506198\n",
      "  0.60827625  0.61465437  0.61571097  0.6164414   0.6244998   0.62498\n",
      "  0.62609903  0.62912638  0.63213923  0.63245553  0.63976558  0.64007812\n",
      "  0.64031242  0.64591021  0.6476882   0.64776539  0.64791975  0.64799691\n",
      "  0.64807407  0.65559134  0.6556676   0.65574385  0.66317419  0.66332496\n",
      "  0.67082039  0.678233    0.68563839  0.69282032  0.69942834  0.70092796\n",
      "  0.70469852  0.70519501  0.70710678  0.72111026  0.72318739  0.74161985\n",
      "  0.75498344  0.76811457  0.77278716  0.78102497  0.78740079  0.81853528\n",
      "  1.26491106]\n",
      "ps_car_14  |  [ 0.1183216   0.2         0.20976177  0.22135944  0.2236068   0.23323808\n",
      "  0.24899799  0.26172505  0.26457513  0.27386128  0.27748874  0.28284271\n",
      "  0.28372522  0.28635642  0.28722813  0.28809721  0.28827071  0.28879058\n",
      "  0.28982753  0.29257478  0.29325757  0.29410882  0.29444864  0.29495762\n",
      "  0.29664794  0.29732137  0.29832868  0.29916551  0.30033315  0.30066593\n",
      "  0.30083218  0.30166206  0.30199338  0.30331502  0.30413813  0.30495901\n",
      "  0.3057777   0.30610456  0.30708305  0.30740852  0.30805844  0.3082207\n",
      "  0.30870698  0.30903074  0.30967725  0.31032241  0.31064449  0.31144823\n",
      "  0.31304952  0.3132092   0.31352831  0.3138471   0.31400637  0.3144837\n",
      "  0.31464265  0.31527766  0.31622777  0.31654384  0.31701735  0.31733263\n",
      "  0.3176476   0.31811947  0.31827661  0.31859065  0.31906112  0.31937439\n",
      "  0.31953091  0.31968735  0.32        0.32015621  0.32046841  0.32062439\n",
      "  0.3207803   0.32093613  0.32109189  0.32124757  0.32140317  0.32171416\n",
      "  0.32186954  0.32249031  0.32264532  0.3232646   0.32403703  0.3241913\n",
      "  0.32434549  0.32465366  0.32480764  0.32496154  0.32557641  0.32572995\n",
      "  0.32634338  0.32664966  0.32680269  0.32695565  0.32710854  0.32741411\n",
      "  0.32756679  0.32787193  0.32802439  0.32848135  0.32863353  0.32878564\n",
      "  0.32893768  0.32924155  0.32939338  0.32984845  0.33        0.33015148\n",
      "  0.33030289  0.33045423  0.33060551  0.33075671  0.33090784  0.33136083\n",
      "  0.33151169  0.33166248  0.33226495  0.3324154   0.33316662  0.33361655\n",
      "  0.33391616  0.33406586  0.3342155   0.33466401  0.33481338  0.33496268\n",
      "  0.3354102   0.33555923  0.33570821  0.33585711  0.33615473  0.33689761\n",
      "  0.33734256  0.33749074  0.33763886  0.33808283  0.33867388  0.33882149\n",
      "  0.3391165   0.33955854  0.33985291  0.34044089  0.34058773  0.34088121\n",
      "  0.34117444  0.34132096  0.34176015  0.34205263  0.34219877  0.34234486\n",
      "  0.34249088  0.34278273  0.34292856  0.34351128  0.34394767  0.34423829\n",
      "  0.34438351  0.34452866  0.34496377  0.34539832  0.34554305  0.34568772\n",
      "  0.34597688  0.34626579  0.34641016  0.34669872  0.3468429   0.3471311\n",
      "  0.34727511  0.34741906  0.34785054  0.34885527  0.34899857  0.34928498\n",
      "  0.34985711  0.35        0.35014283  0.35042831  0.35071356  0.3508561\n",
      "  0.35142567  0.35171011  0.35185224  0.35213634  0.35284558  0.35312887\n",
      "  0.35341194  0.35355339  0.35425979  0.35454196  0.35468296  0.35496479\n",
      "  0.35566838  0.35608988  0.35623026  0.35637059  0.35679126  0.35707142\n",
      "  0.35721142  0.35749126  0.35777088  0.35818989  0.35832946  0.35846897\n",
      "  0.35860842  0.35888717  0.3591657   0.35958309  0.35972212  0.35986108\n",
      "  0.36        0.36013886  0.36055513  0.36083237  0.36097091  0.36124784\n",
      "  0.36138622  0.36152455  0.36166283  0.36193922  0.36262929  0.36290495\n",
      "  0.3630427   0.36331804  0.36373067  0.36386811  0.36400549  0.36414283\n",
      "  0.36469165  0.36496575  0.36510273  0.36537652  0.36565011  0.36578682\n",
      "  0.36592349  0.3660601   0.36633318  0.36646964  0.36660606  0.36674242\n",
      "  0.36742346  0.36769553  0.36783148  0.36810325  0.36837481  0.36851052\n",
      "  0.36878178  0.36959437  0.36986484  0.37        0.37013511  0.37027017\n",
      "  0.37040518  0.37067506  0.37080992  0.37107951  0.37134889  0.37148351\n",
      "  0.37161808  0.3720215   0.37215588  0.37242449  0.37255872  0.37282704\n",
      "  0.37309516  0.37349699  0.37416574  0.3744329   0.37456642  0.37469988\n",
      "  0.3748333   0.37536649  0.37549967  0.37616486  0.3764306   0.37656341\n",
      "  0.37682887  0.37735925  0.37749172  0.37802116  0.37815341  0.37841776\n",
      "  0.37854986  0.37881394  0.37894591  0.37934153  0.37947332  0.38013156\n",
      "  0.38026307  0.38078866  0.38131352  0.38144462  0.38157568  0.38170669\n",
      "  0.38196859  0.38209946  0.38236109  0.38249183  0.38262253  0.38275318\n",
      "  0.38327536  0.38340579  0.38366652  0.38405729  0.38457769  0.38470768\n",
      "  0.38483763  0.38496753  0.38509739  0.38535698  0.38548671  0.38561639\n",
      "  0.38587563  0.38600518  0.38613469  0.3866523   0.38678159  0.38691084\n",
      "  0.38729833  0.38742741  0.38794329  0.38832976  0.38858718  0.38871583\n",
      "  0.38884444  0.38923001  0.38935845  0.38961519  0.38974351  0.38987177\n",
      "  0.39        0.39012818  0.39025633  0.39038443  0.39051248  0.39076847\n",
      "  0.39089641  0.3910243   0.39115214  0.39140772  0.39179076  0.39204592\n",
      "  0.39242834  0.39268308  0.39306488  0.39319206  0.39331921  0.39344631\n",
      "  0.39370039  0.39382737  0.39408121  0.39433488  0.39496835  0.39522146\n",
      "  0.39560081  0.39585351  0.3959798   0.39623226  0.39648455  0.3968627\n",
      "  0.39698866  0.39724048  0.39749214  0.39761791  0.39812058  0.39837169\n",
      "  0.39849718  0.39862263  0.39874804  0.39912404  0.3992493   0.39937451\n",
      "  0.39962482  0.4         0.40049969  0.40062451  0.40087405  0.40099875\n",
      "  0.40124805  0.40137264  0.40162171  0.40174619  0.40187063  0.40224371\n",
      "  0.40236799  0.40249224  0.40261644  0.40274061  0.40311289  0.40348482\n",
      "  0.40373258  0.4039802   0.40435133  0.40459857  0.40496913  0.40521599\n",
      "  0.40533936  0.405586    0.40570926  0.40620192  0.40743098  0.40804412\n",
      "  0.40841156  0.40865633  0.40914545  0.40938979  0.40987803  0.41012193\n",
      "  0.41024383  0.41036569  0.41048752  0.4110961   0.41170378  0.41218928\n",
      "  0.41231056  0.41243181  0.41255303  0.41291646  0.41303753  0.41352146\n",
      "  0.41412558  0.41448764  0.41472883  0.41509035  0.41533119  0.41545156\n",
      "  0.41581246  0.41593269  0.41653331  0.41665333  0.41713307  0.41749251\n",
      "  0.41761226  0.41773197  0.41785165  0.4180909   0.41833001  0.41856899\n",
      "  0.4189272   0.41928511  0.41952354  0.41964271  0.42071368  0.42107007\n",
      "  0.42118879  0.42130749  0.42166337  0.42190046  0.4224926   0.42284749\n",
      "  0.42308392  0.42320208  0.42343831  0.4236744   0.4237924   0.4241462\n",
      "  0.42426407  0.42449971  0.42461747  0.42485292  0.42520583  0.42532341\n",
      "  0.42544095  0.42567593  0.42602817  0.42661458  0.42684892  0.42696604\n",
      "  0.42720019  0.42731721  0.42743421  0.42778499  0.42790186  0.428369\n",
      "  0.42860238  0.42895221  0.42918527  0.42953463  0.43        0.43011626\n",
      "  0.4302325   0.43046486  0.430581    0.43069711  0.43081318  0.43116122\n",
      "  0.43127717  0.43162484  0.43185646  0.43197222  0.43208795  0.43289722\n",
      "  0.4330127   0.43393548  0.43416587  0.4347413   0.43497126  0.43531598\n",
      "  0.43588989  0.43634848  0.43646306  0.43703547  0.43749286  0.43829214\n",
      "  0.4384062   0.43852024  0.43874822  0.43988635  0.44022721  0.44045431\n",
      "  0.44090815  0.44102154  0.44158804  0.4419276   0.44271887  0.44362146\n",
      "  0.44384682  0.44407207  0.44440972  0.44463468  0.44497191  0.44586994\n",
      "  0.44609416  0.44665423  0.44676616  0.4472136   0.44777226  0.44799554\n",
      "  0.4482187   0.44888751  0.44899889  0.4494441   0.4501111   0.45022217\n",
      "  0.45033321  0.45055521  0.45110974  0.45199558  0.45243784  0.45265881\n",
      "  0.45276926  0.45343136  0.45464272  0.45497253  0.45607017  0.45628938\n",
      "  0.45672749  0.4577117   0.45825757  0.45880279  0.45912961  0.45978256\n",
      "  0.46043458  0.46151923  0.4620606   0.46260134  0.46314145  0.46335731\n",
      "  0.46368092  0.464758    0.46529561  0.4669047   0.46797436  0.47\n",
      "  0.47010637  0.47116876  0.47328638  0.47381431  0.47434165  0.47539457\n",
      "  0.47623524  0.4769696   0.47853944  0.47979162  0.48062459  0.48166378\n",
      "  0.48332184  0.48414874  0.48476799  0.48579831  0.48785244  0.48887626\n",
      "  0.48928519  0.49345719  0.49497475  0.49598387  0.49699095  0.49759421\n",
      "  0.49799598  0.49879856  0.498999    0.50049975  0.500999    0.50149776\n",
      "  0.50249378  0.50547008  0.50596443  0.50675438  0.5105879   0.51117512\n",
      "  0.51283526  0.51652686  0.51691392  0.5186521   0.51961524  0.52048055\n",
      "  0.5205766   0.52105662  0.52134442  0.52249402  0.52297227  0.52345009\n",
      "  0.52820451  0.5286776   0.52915026  0.53009433  0.53103672  0.53197744\n",
      "  0.53244718  0.5329165   0.53478968  0.53619026  0.53665631  0.53851648\n",
      "  0.53944416  0.5399074   0.5417564   0.54267854  0.54954527  0.55045436\n",
      "  0.55090834  0.55136195  0.55407581  0.55452683  0.55677644  0.55901699\n",
      "  0.56568542  0.56789083  0.56833089  0.57532599  0.59160798  0.63166447]  |  [ 0.10954451  0.1183216   0.13601471  0.2         0.2078461   0.20976177\n",
      "  0.21095023  0.21307276  0.21794495  0.22135944  0.22315914  0.2236068\n",
      "  0.22427661  0.23021729  0.23323808  0.23345235  0.23452079  0.24899799\n",
      "  0.26172505  0.26457513  0.27386128  0.27748874  0.2792848   0.28195744\n",
      "  0.28284271  0.28372522  0.28548205  0.28600699  0.28635642  0.28722813\n",
      "  0.28809721  0.28827071  0.28879058  0.28982753  0.29257478  0.29325757\n",
      "  0.29410882  0.29444864  0.29495762  0.29512709  0.29529646  0.29614186\n",
      "  0.29664794  0.29732137  0.29832868  0.29916551  0.3         0.30033315\n",
      "  0.30066593  0.30083218  0.30166206  0.30199338  0.30248967  0.30331502\n",
      "  0.30413813  0.30495901  0.30561414  0.3057777   0.30610456  0.30659419\n",
      "  0.30708305  0.30740852  0.30773365  0.30805844  0.3082207   0.30854497\n",
      "  0.30870698  0.30903074  0.30967725  0.31032241  0.31064449  0.31112698\n",
      "  0.31144823  0.31256999  0.31304952  0.3132092   0.31352831  0.3138471\n",
      "  0.31400637  0.3144837   0.31464265  0.31527766  0.31622777  0.31654384\n",
      "  0.31670175  0.31701735  0.31733263  0.31749016  0.3176476   0.31780497\n",
      "  0.31811947  0.31827661  0.31859065  0.31906112  0.31921779  0.31937439\n",
      "  0.31953091  0.31968735  0.31984371  0.32        0.32015621  0.32046841\n",
      "  0.32062439  0.3207803   0.32093613  0.32109189  0.32124757  0.32140317\n",
      "  0.3215587   0.32171416  0.32186954  0.32249031  0.32264532  0.3232646\n",
      "  0.32403703  0.3241913   0.32434549  0.32465366  0.32480764  0.32496154\n",
      "  0.32557641  0.32572995  0.32603681  0.32619013  0.32634338  0.32649655\n",
      "  0.32664966  0.32680269  0.32695565  0.32710854  0.32726136  0.32741411\n",
      "  0.32756679  0.32787193  0.32802439  0.32817678  0.32848135  0.32863353\n",
      "  0.32878564  0.32893768  0.32924155  0.32939338  0.32969683  0.32984845\n",
      "  0.33        0.33015148  0.33030289  0.33045423  0.33060551  0.33075671\n",
      "  0.33090784  0.33136083  0.33151169  0.33166248  0.33211444  0.33226495\n",
      "  0.3324154   0.33316662  0.33361655  0.33376639  0.33391616  0.33406586\n",
      "  0.3342155   0.33466401  0.33481338  0.33496268  0.3354102   0.33555923\n",
      "  0.33570821  0.33585711  0.33600595  0.33615473  0.33689761  0.33734256\n",
      "  0.33749074  0.33763886  0.33778692  0.33793491  0.33808283  0.33837849\n",
      "  0.33867388  0.33882149  0.3391165   0.33955854  0.33985291  0.34044089\n",
      "  0.34058773  0.34088121  0.34117444  0.34132096  0.34146742  0.34176015\n",
      "  0.34205263  0.34219877  0.34234486  0.34249088  0.34278273  0.34292856\n",
      "  0.34351128  0.34365681  0.34394767  0.34409301  0.34423829  0.34438351\n",
      "  0.34452866  0.34467376  0.34496377  0.34539832  0.34554305  0.34568772\n",
      "  0.34583233  0.34597688  0.34626579  0.34641016  0.34669872  0.3468429\n",
      "  0.3471311   0.34727511  0.34741906  0.34785054  0.34799425  0.3481379\n",
      "  0.3485685   0.34871192  0.34885527  0.34899857  0.34928498  0.34985711\n",
      "  0.35        0.35014283  0.35042831  0.35071356  0.3508561   0.35099858\n",
      "  0.35142567  0.35171011  0.35185224  0.35213634  0.35284558  0.35312887\n",
      "  0.35341194  0.35355339  0.35425979  0.35454196  0.35468296  0.3548239\n",
      "  0.35496479  0.35566838  0.35608988  0.35623026  0.35637059  0.35679126\n",
      "  0.35707142  0.35721142  0.35749126  0.35777088  0.35818989  0.35832946\n",
      "  0.35846897  0.35860842  0.35888717  0.3591657   0.35944402  0.35958309\n",
      "  0.35972212  0.35986108  0.36        0.36013886  0.36055513  0.36083237\n",
      "  0.36097091  0.36124784  0.36138622  0.36152455  0.36166283  0.36180105\n",
      "  0.36193922  0.36221541  0.36262929  0.36290495  0.3630427   0.36331804\n",
      "  0.36373067  0.36386811  0.36400549  0.36414283  0.36469165  0.36496575\n",
      "  0.36510273  0.36537652  0.36551334  0.36565011  0.36578682  0.36592349\n",
      "  0.3660601   0.36633318  0.36646964  0.36660606  0.36674242  0.36742346\n",
      "  0.36769553  0.36783148  0.36810325  0.36837481  0.36851052  0.36878178\n",
      "  0.3691883   0.36959437  0.36986484  0.37        0.37013511  0.37027017\n",
      "  0.37040518  0.37067506  0.37080992  0.37107951  0.37134889  0.37148351\n",
      "  0.37161808  0.3720215   0.37215588  0.37242449  0.37255872  0.3726929\n",
      "  0.37282704  0.37296112  0.37309516  0.37349699  0.37363083  0.37403208\n",
      "  0.37416574  0.37429935  0.3744329   0.37456642  0.37469988  0.3748333\n",
      "  0.37536649  0.37549967  0.37603191  0.37616486  0.3764306   0.37656341\n",
      "  0.37682887  0.37735925  0.37749172  0.37802116  0.37815341  0.37841776\n",
      "  0.37854986  0.37881394  0.37894591  0.37934153  0.37947332  0.37960506\n",
      "  0.3798684   0.38013156  0.38026307  0.38078866  0.38091994  0.38131352\n",
      "  0.38144462  0.38157568  0.38170669  0.38196859  0.38209946  0.38236109\n",
      "  0.38249183  0.38262253  0.38275318  0.38327536  0.38340579  0.38353618\n",
      "  0.38366652  0.38392708  0.38405729  0.38418745  0.38457769  0.38470768\n",
      "  0.38483763  0.38496753  0.38509739  0.38522721  0.38535698  0.38548671\n",
      "  0.38561639  0.38587563  0.38600518  0.38613469  0.3866523   0.38678159\n",
      "  0.38691084  0.38704005  0.38729833  0.38742741  0.38794329  0.38832976\n",
      "  0.38845849  0.38858718  0.38871583  0.38884444  0.38897301  0.38923001\n",
      "  0.38935845  0.38961519  0.38974351  0.38987177  0.39        0.39012818\n",
      "  0.39025633  0.39038443  0.39051248  0.3906405   0.39076847  0.39089641\n",
      "  0.3910243   0.39115214  0.39140772  0.39179076  0.39204592  0.39242834\n",
      "  0.39268308  0.39293765  0.39306488  0.39319206  0.39331921  0.39344631\n",
      "  0.39370039  0.39382737  0.39408121  0.39433488  0.39496835  0.39522146\n",
      "  0.39534795  0.39560081  0.39572718  0.39585351  0.3959798   0.39623226\n",
      "  0.39635842  0.39648455  0.3968627   0.39698866  0.39724048  0.39749214\n",
      "  0.39761791  0.39774364  0.39812058  0.39837169  0.39849718  0.39862263\n",
      "  0.39874804  0.39887341  0.39912404  0.3992493   0.39937451  0.39962482\n",
      "  0.39987498  0.4         0.40037482  0.40049969  0.40062451  0.40087405\n",
      "  0.40099875  0.40124805  0.40137264  0.40162171  0.40174619  0.40187063\n",
      "  0.40224371  0.40236799  0.40249224  0.40261644  0.40274061  0.40311289\n",
      "  0.40348482  0.40373258  0.40385641  0.4039802   0.40435133  0.40459857\n",
      "  0.40472213  0.40484565  0.40496913  0.40521599  0.40533936  0.405586\n",
      "  0.40570926  0.40620192  0.40632499  0.40669399  0.40681691  0.40743098\n",
      "  0.40804412  0.40841156  0.40865633  0.40914545  0.40926764  0.40938979\n",
      "  0.40975603  0.40987803  0.41012193  0.41024383  0.41036569  0.41048752\n",
      "  0.41073106  0.4110961   0.41146081  0.41170378  0.41218928  0.41231056\n",
      "  0.41243181  0.41255303  0.41291646  0.41303753  0.41352146  0.41412558\n",
      "  0.41448764  0.41460825  0.41472883  0.41509035  0.41533119  0.41545156\n",
      "  0.41581246  0.41593269  0.41653331  0.41665333  0.41677332  0.41713307\n",
      "  0.41749251  0.41761226  0.41773197  0.41785165  0.41797129  0.4180909\n",
      "  0.41821047  0.41833001  0.41856899  0.4189272   0.41904654  0.41916584\n",
      "  0.41928511  0.41952354  0.41964271  0.42011903  0.42071368  0.42083251\n",
      "  0.42107007  0.42118879  0.42130749  0.42154478  0.42166337  0.42190046\n",
      "  0.4224926   0.42284749  0.42308392  0.42320208  0.42332021  0.42343831\n",
      "  0.4236744   0.4237924   0.4241462   0.42426407  0.42449971  0.42461747\n",
      "  0.42473521  0.42485292  0.42520583  0.42532341  0.42544095  0.42567593\n",
      "  0.42602817  0.42661458  0.42684892  0.42696604  0.42720019  0.42731721\n",
      "  0.42743421  0.42778499  0.42790186  0.428369    0.42860238  0.42895221\n",
      "  0.42918527  0.42930176  0.42953463  0.42976738  0.43        0.43011626\n",
      "  0.4302325   0.43046486  0.430581    0.43069711  0.43081318  0.43116122\n",
      "  0.43127717  0.43162484  0.43185646  0.43197222  0.43208795  0.43243497\n",
      "  0.4327817   0.43289722  0.4330127   0.43358967  0.43393548  0.43416587\n",
      "  0.4347413   0.4348563   0.43497126  0.43531598  0.43543082  0.43588989\n",
      "  0.43634848  0.43646306  0.43669211  0.43703547  0.43749286  0.43772137\n",
      "  0.43817805  0.43829214  0.4384062   0.43852024  0.43874822  0.43943145\n",
      "  0.43954522  0.43988635  0.44022721  0.44045431  0.44068129  0.44090815\n",
      "  0.44102154  0.44124823  0.44158804  0.4419276   0.44215382  0.44271887\n",
      "  0.4428318   0.44362146  0.44384682  0.44395946  0.44407207  0.44440972\n",
      "  0.44452222  0.44463468  0.44497191  0.44542115  0.44553339  0.44586994\n",
      "  0.44609416  0.44665423  0.44676616  0.44687806  0.4472136   0.44777226\n",
      "  0.44799554  0.4482187   0.44833024  0.44888751  0.44899889  0.4494441\n",
      "  0.44977772  0.4501111   0.45022217  0.45033321  0.45055521  0.45110974\n",
      "  0.45144213  0.45166359  0.45199558  0.45221676  0.45243784  0.45265881\n",
      "  0.45276926  0.45332108  0.45343136  0.45387223  0.45442271  0.45464272\n",
      "  0.45497253  0.4553021   0.45607017  0.45628938  0.45639895  0.45672749\n",
      "  0.45716518  0.4577117   0.45814845  0.45825757  0.45880279  0.45912961\n",
      "  0.45934736  0.45978256  0.46        0.46043458  0.46151923  0.46173586\n",
      "  0.4620606   0.46260134  0.46314145  0.46335731  0.46368092  0.46421978\n",
      "  0.464758    0.46529561  0.46540305  0.46583259  0.4669047   0.46743984\n",
      "  0.46797436  0.46850827  0.46904158  0.46957428  0.47        0.47010637\n",
      "  0.47116876  0.47159304  0.47222876  0.47275787  0.47328638  0.47381431\n",
      "  0.47434165  0.47465777  0.4748684   0.47539457  0.47623524  0.4769696\n",
      "  0.47749346  0.47853944  0.47927028  0.47979162  0.48062459  0.48135226\n",
      "  0.48166378  0.48332184  0.48373546  0.48414874  0.48476799  0.48528342\n",
      "  0.48579831  0.48631266  0.48785244  0.48887626  0.48928519  0.48989795\n",
      "  0.49345719  0.49396356  0.49446941  0.49497475  0.49517674  0.49598387\n",
      "  0.49648766  0.49678969  0.49699095  0.49759421  0.49799598  0.49879856\n",
      "  0.498999    0.49949975  0.50049975  0.500999    0.50149776  0.50199602\n",
      "  0.50249378  0.50358713  0.50398413  0.50497525  0.50547008  0.50576674\n",
      "  0.50596443  0.50655701  0.50675438  0.50714889  0.507937    0.5105879\n",
      "  0.51117512  0.51137071  0.51185936  0.51254268  0.51283526  0.51652686\n",
      "  0.51691392  0.51768716  0.5186521   0.51961524  0.52048055  0.5205766\n",
      "  0.52105662  0.52134442  0.52153619  0.52249402  0.52297227  0.52345009\n",
      "  0.52440442  0.52678269  0.52725705  0.52773099  0.52820451  0.5286776\n",
      "  0.52915026  0.53009433  0.53103672  0.53150729  0.53197744  0.53244718\n",
      "  0.5329165   0.53385391  0.53478968  0.53525695  0.53619026  0.53665631\n",
      "  0.53851648  0.53944416  0.5399074   0.5417564   0.54267854  0.54313902\n",
      "  0.54350713  0.54405882  0.54543561  0.54863467  0.54954527  0.55045436\n",
      "  0.55090834  0.55136195  0.55226805  0.55407581  0.55434646  0.55452683\n",
      "  0.55497748  0.55677644  0.55901699  0.56035703  0.56124861  0.56568542\n",
      "  0.56595053  0.56656862  0.56789083  0.56833089  0.57008771  0.57445626\n",
      "  0.57532599  0.58309519  0.58736701  0.59160798  0.59581876  0.60332413\n",
      "  0.60991803  0.63166447  0.6363961 ]\n"
     ]
    }
   ],
   "source": [
    "print(\"{:<15} | {:20} | {:20}\".format(\"column\",\"uniq-val-1\",\"uniq-val-0\"))\n",
    "print(\"-------------------------------------------------------------------------\")\n",
    "for column in train_df.columns:\n",
    "    filter_nan = train_df[column] == -1\n",
    "    filter_ok = train_df[column] != -1\n",
    "    filter_target_1 = train_df['target'] == 1\n",
    "    filter_target_0 = train_df['target'] == 0\n",
    "    count = train_df[filter_nan][column].count()\n",
    "    if count > 0:\n",
    "        unique_values_1 = train_df[filter_ok & filter_target_1][column].unique()\n",
    "        unique_values_0 = train_df[filter_ok & filter_target_0][column].unique()\n",
    "        mean = train_df[column].mean()\n",
    "        print(column,' | ',np.sort(unique_values_1), ' | ', np.sort(unique_values_0))"
   ]
  },
  {
   "cell_type": "code",
   "execution_count": 27,
   "metadata": {
    "collapsed": false
   },
   "outputs": [
    {
     "name": "stdout",
     "output_type": "stream",
     "text": [
      "column          | uniq-val-1           | uniq-val-0          \n",
      "-------------------------------------------------------------------------\n"
     ]
    }
   ],
   "source": [
    "print(\"{:<15} | {:20} | {:20}\".format(\"column\",\"uniq-val-1\",\"uniq-val-0\"))\n",
    "print(\"-------------------------------------------------------------------------\")\n",
    "for column in train_df.columns:\n",
    "    filter_nan = np.isnan(train_df[column])\n",
    "    filter_target_1 = train_df['target'] == 1\n",
    "    filter_target_0 = train_df['target'] == 0\n",
    "    count = train_df[filter_nan]['target'].count()\n",
    "    count_target_1 = train_df[filter_target_1 & filter_nan]['target'].count()\n",
    "    count_target_0 = train_df[filter_target_0 & filter_nan]['target'].count()\n",
    "    if count > 0:\n",
    "        unique_values_1 = train_df[filter_ok & filter_target_1][column].unique()\n",
    "        unique_values_0 = train_df[filter_ok & filter_target_0][column].unique()\n",
    "        mean = train_df[column].mean()\n",
    "        print(column,' | ',np.sort(unique_values_1), ' | ', np.sort(unique_values_0))"
   ]
  },
  {
   "cell_type": "markdown",
   "metadata": {},
   "source": [
    "### From the above, we see that there is no strong correlation with any of the problem columns w.r.t to a particular value mapping to at target of 0 or 1."
   ]
  },
  {
   "cell_type": "code",
   "execution_count": 28,
   "metadata": {
    "collapsed": false
   },
   "outputs": [
    {
     "data": {
      "image/png": "[encoded data removed]",
      "text/plain": [
       "<matplotlib.figure.Figure at 0x1074507f0>"
      ]
     },
     "metadata": {},
     "output_type": "display_data"
    },
    {
     "data": {
      "image/png": "[encoded data removed]",
      "text/plain": [
       "<matplotlib.figure.Figure at 0x1065c9c18>"
      ]
     },
     "metadata": {},
     "output_type": "display_data"
    },
    {
     "data": {
      "image/png": "[encoded data removed]",
      "text/plain": [
       "<matplotlib.figure.Figure at 0x10ffa6c50>"
      ]
     },
     "metadata": {},
     "output_type": "display_data"
    },
    {
     "data": {
      "image/png": "[encoded data removed]",
      "text/plain": [
       "<matplotlib.figure.Figure at 0x10ffa6dd8>"
      ]
     },
     "metadata": {},
     "output_type": "display_data"
    },
    {
     "data": {
      "image/png": "[encoded data removed]",
      "text/plain": [
       "<matplotlib.figure.Figure at 0x110347358>"
      ]
     },
     "metadata": {},
     "output_type": "display_data"
    },
    {
     "data": {
      "image/png": "[encoded data removed]",
      "text/plain": [
       "<matplotlib.figure.Figure at 0x1103a5320>"
      ]
     },
     "metadata": {},
     "output_type": "display_data"
    },
    {
     "data": {
      "image/png": "[encoded data removed]",
      "text/plain": [
       "<matplotlib.figure.Figure at 0x1108b7be0>"
      ]
     },
     "metadata": {},
     "output_type": "display_data"
    },
    {
     "data": {
      "image/png": "[encoded data removed]",
      "text/plain": [
       "<matplotlib.figure.Figure at 0x11091bda0>"
      ]
     },
     "metadata": {},
     "output_type": "display_data"
    },
    {
     "data": {
      "image/png": "[encoded data removed]",
      "text/plain": [
       "<matplotlib.figure.Figure at 0x110c67c88>"
      ]
     },
     "metadata": {},
     "output_type": "display_data"
    },
    {
     "data": {
      "image/png": "[encoded data removed]",
      "text/plain": [
       "<matplotlib.figure.Figure at 0x106640470>"
      ]
     },
     "metadata": {},
     "output_type": "display_data"
    },
    {
     "data": {
      "image/png": "[encoded data removed]",
      "text/plain": [
       "<matplotlib.figure.Figure at 0x1103a54a8>"
      ]
     },
     "metadata": {},
     "output_type": "display_data"
    },
    {
     "data": {
      "image/png": "[encoded data removed]",
      "text/plain": [
       "<matplotlib.figure.Figure at 0x1066406a0>"
      ]
     },
     "metadata": {},
     "output_type": "display_data"
    },
    {
     "data": {
      "image/png": "[encoded data removed]",
      "text/plain": [
       "<matplotlib.figure.Figure at 0x110cc3cc0>"
      ]
     },
     "metadata": {},
     "output_type": "display_data"
    }
   ],
   "source": [
    "for column in train_df.columns:\n",
    "    filter_nan = train_df[column] == -1\n",
    "    count = train_df[filter_nan][column].count()\n",
    "    if count > 0:\n",
    "        train_df.hist(column=column)"
   ]
  },
  {
   "cell_type": "code",
   "execution_count": 29,
   "metadata": {
    "collapsed": false
   },
   "outputs": [],
   "source": [
    "a = np.array(train_df['ps_car_11'].tolist())"
   ]
  },
  {
   "cell_type": "code",
   "execution_count": 30,
   "metadata": {
    "collapsed": false
   },
   "outputs": [
    {
     "data": {
      "text/plain": [
       "array([ 2,  3,  1,  0, -1])"
      ]
     },
     "execution_count": 30,
     "metadata": {},
     "output_type": "execute_result"
    }
   ],
   "source": [
    "train_df['ps_car_11'].unique()"
   ]
  },
  {
   "cell_type": "code",
   "execution_count": 31,
   "metadata": {
    "collapsed": false
   },
   "outputs": [
    {
     "data": {
      "text/html": [
       "<div>\n",
       "<table border=\"1\" class=\"dataframe\">\n",
       "  <thead>\n",
       "    <tr style=\"text-align: right;\">\n",
       "      <th></th>\n",
       "      <th>id</th>\n",
       "      <th>target</th>\n",
       "      <th>ps_ind_01</th>\n",
       "      <th>ps_ind_02_cat</th>\n",
       "      <th>ps_ind_03</th>\n",
       "      <th>ps_ind_04_cat</th>\n",
       "      <th>ps_ind_05_cat</th>\n",
       "      <th>ps_ind_06_bin</th>\n",
       "      <th>ps_ind_07_bin</th>\n",
       "      <th>ps_ind_08_bin</th>\n",
       "      <th>...</th>\n",
       "      <th>ps_calc_11</th>\n",
       "      <th>ps_calc_12</th>\n",
       "      <th>ps_calc_13</th>\n",
       "      <th>ps_calc_14</th>\n",
       "      <th>ps_calc_15_bin</th>\n",
       "      <th>ps_calc_16_bin</th>\n",
       "      <th>ps_calc_17_bin</th>\n",
       "      <th>ps_calc_18_bin</th>\n",
       "      <th>ps_calc_19_bin</th>\n",
       "      <th>ps_calc_20_bin</th>\n",
       "    </tr>\n",
       "  </thead>\n",
       "  <tbody>\n",
       "    <tr>\n",
       "      <th>0</th>\n",
       "      <td>7</td>\n",
       "      <td>0</td>\n",
       "      <td>2</td>\n",
       "      <td>2</td>\n",
       "      <td>5</td>\n",
       "      <td>1</td>\n",
       "      <td>0</td>\n",
       "      <td>0</td>\n",
       "      <td>1</td>\n",
       "      <td>0</td>\n",
       "      <td>...</td>\n",
       "      <td>9</td>\n",
       "      <td>1</td>\n",
       "      <td>5</td>\n",
       "      <td>8</td>\n",
       "      <td>0</td>\n",
       "      <td>1</td>\n",
       "      <td>1</td>\n",
       "      <td>0</td>\n",
       "      <td>0</td>\n",
       "      <td>1</td>\n",
       "    </tr>\n",
       "    <tr>\n",
       "      <th>1</th>\n",
       "      <td>9</td>\n",
       "      <td>0</td>\n",
       "      <td>1</td>\n",
       "      <td>1</td>\n",
       "      <td>7</td>\n",
       "      <td>0</td>\n",
       "      <td>0</td>\n",
       "      <td>0</td>\n",
       "      <td>0</td>\n",
       "      <td>1</td>\n",
       "      <td>...</td>\n",
       "      <td>3</td>\n",
       "      <td>1</td>\n",
       "      <td>1</td>\n",
       "      <td>9</td>\n",
       "      <td>0</td>\n",
       "      <td>1</td>\n",
       "      <td>1</td>\n",
       "      <td>0</td>\n",
       "      <td>1</td>\n",
       "      <td>0</td>\n",
       "    </tr>\n",
       "    <tr>\n",
       "      <th>2</th>\n",
       "      <td>13</td>\n",
       "      <td>0</td>\n",
       "      <td>5</td>\n",
       "      <td>4</td>\n",
       "      <td>9</td>\n",
       "      <td>1</td>\n",
       "      <td>0</td>\n",
       "      <td>0</td>\n",
       "      <td>0</td>\n",
       "      <td>1</td>\n",
       "      <td>...</td>\n",
       "      <td>4</td>\n",
       "      <td>2</td>\n",
       "      <td>7</td>\n",
       "      <td>7</td>\n",
       "      <td>0</td>\n",
       "      <td>1</td>\n",
       "      <td>1</td>\n",
       "      <td>0</td>\n",
       "      <td>1</td>\n",
       "      <td>0</td>\n",
       "    </tr>\n",
       "    <tr>\n",
       "      <th>3</th>\n",
       "      <td>16</td>\n",
       "      <td>0</td>\n",
       "      <td>0</td>\n",
       "      <td>1</td>\n",
       "      <td>2</td>\n",
       "      <td>0</td>\n",
       "      <td>0</td>\n",
       "      <td>1</td>\n",
       "      <td>0</td>\n",
       "      <td>0</td>\n",
       "      <td>...</td>\n",
       "      <td>2</td>\n",
       "      <td>2</td>\n",
       "      <td>4</td>\n",
       "      <td>9</td>\n",
       "      <td>0</td>\n",
       "      <td>0</td>\n",
       "      <td>0</td>\n",
       "      <td>0</td>\n",
       "      <td>0</td>\n",
       "      <td>0</td>\n",
       "    </tr>\n",
       "    <tr>\n",
       "      <th>4</th>\n",
       "      <td>17</td>\n",
       "      <td>0</td>\n",
       "      <td>0</td>\n",
       "      <td>2</td>\n",
       "      <td>0</td>\n",
       "      <td>1</td>\n",
       "      <td>0</td>\n",
       "      <td>1</td>\n",
       "      <td>0</td>\n",
       "      <td>0</td>\n",
       "      <td>...</td>\n",
       "      <td>3</td>\n",
       "      <td>1</td>\n",
       "      <td>1</td>\n",
       "      <td>3</td>\n",
       "      <td>0</td>\n",
       "      <td>0</td>\n",
       "      <td>0</td>\n",
       "      <td>1</td>\n",
       "      <td>1</td>\n",
       "      <td>0</td>\n",
       "    </tr>\n",
       "  </tbody>\n",
       "</table>\n",
       "<p>5 rows × 59 columns</p>\n",
       "</div>"
      ],
      "text/plain": [
       "   id  target  ps_ind_01  ps_ind_02_cat  ps_ind_03  ps_ind_04_cat  \\\n",
       "0   7       0          2              2          5              1   \n",
       "1   9       0          1              1          7              0   \n",
       "2  13       0          5              4          9              1   \n",
       "3  16       0          0              1          2              0   \n",
       "4  17       0          0              2          0              1   \n",
       "\n",
       "   ps_ind_05_cat  ps_ind_06_bin  ps_ind_07_bin  ps_ind_08_bin       ...        \\\n",
       "0              0              0              1              0       ...         \n",
       "1              0              0              0              1       ...         \n",
       "2              0              0              0              1       ...         \n",
       "3              0              1              0              0       ...         \n",
       "4              0              1              0              0       ...         \n",
       "\n",
       "   ps_calc_11  ps_calc_12  ps_calc_13  ps_calc_14  ps_calc_15_bin  \\\n",
       "0           9           1           5           8               0   \n",
       "1           3           1           1           9               0   \n",
       "2           4           2           7           7               0   \n",
       "3           2           2           4           9               0   \n",
       "4           3           1           1           3               0   \n",
       "\n",
       "   ps_calc_16_bin  ps_calc_17_bin  ps_calc_18_bin  ps_calc_19_bin  \\\n",
       "0               1               1               0               0   \n",
       "1               1               1               0               1   \n",
       "2               1               1               0               1   \n",
       "3               0               0               0               0   \n",
       "4               0               0               1               1   \n",
       "\n",
       "   ps_calc_20_bin  \n",
       "0               1  \n",
       "1               0  \n",
       "2               0  \n",
       "3               0  \n",
       "4               0  \n",
       "\n",
       "[5 rows x 59 columns]"
      ]
     },
     "execution_count": 31,
     "metadata": {},
     "output_type": "execute_result"
    }
   ],
   "source": [
    "train_df.head()"
   ]
  },
  {
   "cell_type": "markdown",
   "metadata": {},
   "source": [
    "### Do any columns have np.nan"
   ]
  },
  {
   "cell_type": "code",
   "execution_count": 32,
   "metadata": {
    "collapsed": false
   },
   "outputs": [
    {
     "data": {
      "text/plain": [
       "False"
      ]
     },
     "execution_count": 32,
     "metadata": {},
     "output_type": "execute_result"
    }
   ],
   "source": [
    "train_df.isnull().any().any()"
   ]
  },
  {
   "cell_type": "code",
   "execution_count": 33,
   "metadata": {
    "collapsed": false,
    "scrolled": false
   },
   "outputs": [
    {
     "name": "stdout",
     "output_type": "stream",
     "text": [
      "column          | count      |    percent% |   target_1 |   target_0\n",
      "-------------------------------------------------------------------------\n"
     ]
    }
   ],
   "source": [
    "print(\"{:<15} | {:10} | {:>10}% | {:>10} | {:>10}\".format(\"column\",\"count\",\"percent\",\"target_1\",\"target_0\"))\n",
    "print(\"-------------------------------------------------------------------------\")\n",
    "for column in train_df.columns:\n",
    "    filter_nan = np.isnan(train_df[column])\n",
    "    filter_target_1 = train_df['target'] == 1\n",
    "    filter_target_0 = train_df['target'] == 0\n",
    "    count = train_df[filter_nan]['target'].count()\n",
    "    count_target_1 = train_df[filter_target_1 & filter_nan]['target'].count()\n",
    "    count_target_0 = train_df[filter_target_0 & filter_nan]['target'].count()\n",
    "    #print(count_target_0)\n",
    "    percentage = count/total_count * 100;\n",
    "    if percentage > 0.0:\n",
    "        print(\"{:<15} | {:10} | {:>4.2f}% | {:10} | {:10}\".format(column,count,percentage,count_target_1,count_target_0))\n",
    "\n"
   ]
  },
  {
   "cell_type": "markdown",
   "metadata": {},
   "source": [
    "### Some columns have NaN values (np.nan) . Fill those with the mean"
   ]
  },
  {
   "cell_type": "code",
   "execution_count": 35,
   "metadata": {
    "collapsed": false,
    "scrolled": true
   },
   "outputs": [
    {
     "name": "stdout",
     "output_type": "stream",
     "text": [
      "column          | mean                 \n",
      "-------------------------------------------------------------------------\n"
     ]
    }
   ],
   "source": [
    "print(\"{:<15} | {:20} \".format(\"column\",\"mean\"))\n",
    "print(\"-------------------------------------------------------------------------\")\n",
    "for column in train_df.columns:\n",
    "    filter_nan = np.isnan(train_df[column])\n",
    "    filter_ok = ~filter_nan\n",
    "    count = train_df[filter_nan]['target'].count()\n",
    "    if count > 0:\n",
    "        unique_values = train_df[column].unique()\n",
    "        mean = train_df[filter_ok][column].mean()\n",
    "        #Fill nan numbers with mean\n",
    "        train_df[column].fillna(mean,inplace=True)\n",
    "        print(column, ' | ', mean)"
   ]
  },
  {
   "cell_type": "code",
   "execution_count": 38,
   "metadata": {
    "collapsed": false
   },
   "outputs": [],
   "source": [
    "from collections import Counter # Counts number of distinct types of values, given an iterable"
   ]
  },
  {
   "cell_type": "code",
   "execution_count": 44,
   "metadata": {
    "collapsed": false
   },
   "outputs": [
    {
     "data": {
      "text/plain": [
       "Counter({0: 187594,\n",
       "         1: 143984,\n",
       "         2: 82468,\n",
       "         3: 51193,\n",
       "         4: 33524,\n",
       "         5: 61464,\n",
       "         6: 17682,\n",
       "         7: 17303})"
      ]
     },
     "execution_count": 44,
     "metadata": {},
     "output_type": "execute_result"
    }
   ],
   "source": [
    "Counter(train_df['ps_ind_01'].values)"
   ]
  },
  {
   "cell_type": "code",
   "execution_count": 46,
   "metadata": {
    "collapsed": false
   },
   "outputs": [
    {
     "data": {
      "text/plain": [
       "Counter({'a': 1, 'b': 5, 'c': 1, 'd': 4, 'e': 1})"
      ]
     },
     "execution_count": 46,
     "metadata": {},
     "output_type": "execute_result"
    }
   ],
   "source": [
    "Counter('abbbbbcddedd')"
   ]
  },
  {
   "cell_type": "code",
   "execution_count": 50,
   "metadata": {
    "collapsed": false
   },
   "outputs": [
    {
     "data": {
      "text/plain": [
       "Counter({1: 2, 2: 4, 3: 1, 4: 1, 5: 1})"
      ]
     },
     "execution_count": 50,
     "metadata": {},
     "output_type": "execute_result"
    }
   ],
   "source": [
    "Counter([1,2,3,4,2,2,2,1,5])"
   ]
  },
  {
   "cell_type": "code",
   "execution_count": null,
   "metadata": {
    "collapsed": true
   },
   "outputs": [],
   "source": [
    "Counter()"
   ]
  },
  {
   "cell_type": "markdown",
   "metadata": {},
   "source": [
    "## SKlearn"
   ]
  },
  {
   "cell_type": "markdown",
   "metadata": {},
   "source": [
    "### Split intro training and test sets, default is 25% is test"
   ]
  },
  {
   "cell_type": "code",
   "execution_count": 150,
   "metadata": {
    "collapsed": true
   },
   "outputs": [],
   "source": [
    "from sklearn.model_selection import train_test_split\n",
    "from sklearn.utils import shuffle"
   ]
  },
  {
   "cell_type": "code",
   "execution_count": 157,
   "metadata": {
    "collapsed": false,
    "scrolled": true
   },
   "outputs": [
    {
     "data": {
      "text/html": [
       "<div>\n",
       "<table border=\"1\" class=\"dataframe\">\n",
       "  <thead>\n",
       "    <tr style=\"text-align: right;\">\n",
       "      <th></th>\n",
       "      <th>id</th>\n",
       "      <th>target</th>\n",
       "      <th>ps_ind_01</th>\n",
       "      <th>ps_ind_02_cat</th>\n",
       "      <th>ps_ind_03</th>\n",
       "      <th>ps_ind_04_cat</th>\n",
       "      <th>ps_ind_05_cat</th>\n",
       "      <th>ps_ind_06_bin</th>\n",
       "      <th>ps_ind_07_bin</th>\n",
       "      <th>ps_ind_08_bin</th>\n",
       "      <th>...</th>\n",
       "      <th>ps_calc_11</th>\n",
       "      <th>ps_calc_12</th>\n",
       "      <th>ps_calc_13</th>\n",
       "      <th>ps_calc_14</th>\n",
       "      <th>ps_calc_15_bin</th>\n",
       "      <th>ps_calc_16_bin</th>\n",
       "      <th>ps_calc_17_bin</th>\n",
       "      <th>ps_calc_18_bin</th>\n",
       "      <th>ps_calc_19_bin</th>\n",
       "      <th>ps_calc_20_bin</th>\n",
       "    </tr>\n",
       "  </thead>\n",
       "  <tbody>\n",
       "    <tr>\n",
       "      <th>185707</th>\n",
       "      <td>464328</td>\n",
       "      <td>0</td>\n",
       "      <td>2</td>\n",
       "      <td>2</td>\n",
       "      <td>4</td>\n",
       "      <td>1</td>\n",
       "      <td>0</td>\n",
       "      <td>1</td>\n",
       "      <td>0</td>\n",
       "      <td>0</td>\n",
       "      <td>...</td>\n",
       "      <td>4</td>\n",
       "      <td>2</td>\n",
       "      <td>4</td>\n",
       "      <td>4</td>\n",
       "      <td>0</td>\n",
       "      <td>1</td>\n",
       "      <td>1</td>\n",
       "      <td>0</td>\n",
       "      <td>0</td>\n",
       "      <td>1</td>\n",
       "    </tr>\n",
       "    <tr>\n",
       "      <th>61393</th>\n",
       "      <td>153862</td>\n",
       "      <td>0</td>\n",
       "      <td>1</td>\n",
       "      <td>1</td>\n",
       "      <td>4</td>\n",
       "      <td>0</td>\n",
       "      <td>0</td>\n",
       "      <td>1</td>\n",
       "      <td>0</td>\n",
       "      <td>0</td>\n",
       "      <td>...</td>\n",
       "      <td>7</td>\n",
       "      <td>1</td>\n",
       "      <td>2</td>\n",
       "      <td>2</td>\n",
       "      <td>0</td>\n",
       "      <td>1</td>\n",
       "      <td>0</td>\n",
       "      <td>0</td>\n",
       "      <td>0</td>\n",
       "      <td>0</td>\n",
       "    </tr>\n",
       "    <tr>\n",
       "      <th>144739</th>\n",
       "      <td>361660</td>\n",
       "      <td>0</td>\n",
       "      <td>0</td>\n",
       "      <td>1</td>\n",
       "      <td>2</td>\n",
       "      <td>0</td>\n",
       "      <td>0</td>\n",
       "      <td>1</td>\n",
       "      <td>0</td>\n",
       "      <td>0</td>\n",
       "      <td>...</td>\n",
       "      <td>9</td>\n",
       "      <td>0</td>\n",
       "      <td>2</td>\n",
       "      <td>6</td>\n",
       "      <td>0</td>\n",
       "      <td>1</td>\n",
       "      <td>1</td>\n",
       "      <td>0</td>\n",
       "      <td>0</td>\n",
       "      <td>1</td>\n",
       "    </tr>\n",
       "    <tr>\n",
       "      <th>563869</th>\n",
       "      <td>1409796</td>\n",
       "      <td>0</td>\n",
       "      <td>1</td>\n",
       "      <td>1</td>\n",
       "      <td>3</td>\n",
       "      <td>1</td>\n",
       "      <td>0</td>\n",
       "      <td>1</td>\n",
       "      <td>0</td>\n",
       "      <td>0</td>\n",
       "      <td>...</td>\n",
       "      <td>4</td>\n",
       "      <td>1</td>\n",
       "      <td>2</td>\n",
       "      <td>7</td>\n",
       "      <td>0</td>\n",
       "      <td>0</td>\n",
       "      <td>1</td>\n",
       "      <td>0</td>\n",
       "      <td>1</td>\n",
       "      <td>0</td>\n",
       "    </tr>\n",
       "    <tr>\n",
       "      <th>31840</th>\n",
       "      <td>79825</td>\n",
       "      <td>0</td>\n",
       "      <td>0</td>\n",
       "      <td>1</td>\n",
       "      <td>6</td>\n",
       "      <td>1</td>\n",
       "      <td>3</td>\n",
       "      <td>1</td>\n",
       "      <td>0</td>\n",
       "      <td>0</td>\n",
       "      <td>...</td>\n",
       "      <td>7</td>\n",
       "      <td>0</td>\n",
       "      <td>2</td>\n",
       "      <td>7</td>\n",
       "      <td>0</td>\n",
       "      <td>1</td>\n",
       "      <td>1</td>\n",
       "      <td>0</td>\n",
       "      <td>0</td>\n",
       "      <td>0</td>\n",
       "    </tr>\n",
       "  </tbody>\n",
       "</table>\n",
       "<p>5 rows × 59 columns</p>\n",
       "</div>"
      ],
      "text/plain": [
       "             id  target  ps_ind_01  ps_ind_02_cat  ps_ind_03  ps_ind_04_cat  \\\n",
       "185707   464328       0          2              2          4              1   \n",
       "61393    153862       0          1              1          4              0   \n",
       "144739   361660       0          0              1          2              0   \n",
       "563869  1409796       0          1              1          3              1   \n",
       "31840     79825       0          0              1          6              1   \n",
       "\n",
       "        ps_ind_05_cat  ps_ind_06_bin  ps_ind_07_bin  ps_ind_08_bin  \\\n",
       "185707              0              1              0              0   \n",
       "61393               0              1              0              0   \n",
       "144739              0              1              0              0   \n",
       "563869              0              1              0              0   \n",
       "31840               3              1              0              0   \n",
       "\n",
       "             ...        ps_calc_11  ps_calc_12  ps_calc_13  ps_calc_14  \\\n",
       "185707       ...                 4           2           4           4   \n",
       "61393        ...                 7           1           2           2   \n",
       "144739       ...                 9           0           2           6   \n",
       "563869       ...                 4           1           2           7   \n",
       "31840        ...                 7           0           2           7   \n",
       "\n",
       "        ps_calc_15_bin  ps_calc_16_bin  ps_calc_17_bin  ps_calc_18_bin  \\\n",
       "185707               0               1               1               0   \n",
       "61393                0               1               0               0   \n",
       "144739               0               1               1               0   \n",
       "563869               0               0               1               0   \n",
       "31840                0               1               1               0   \n",
       "\n",
       "        ps_calc_19_bin  ps_calc_20_bin  \n",
       "185707               0               1  \n",
       "61393                0               0  \n",
       "144739               0               1  \n",
       "563869               1               0  \n",
       "31840                0               0  \n",
       "\n",
       "[5 rows x 59 columns]"
      ]
     },
     "execution_count": 157,
     "metadata": {},
     "output_type": "execute_result"
    }
   ],
   "source": [
    "train_df_shuffle = shuffle(train_df)\n",
    "train_df_shuffle.head(5)"
   ]
  },
  {
   "cell_type": "code",
   "execution_count": 229,
   "metadata": {
    "collapsed": true
   },
   "outputs": [],
   "source": [
    "y = train_df['target']\n",
    "X = pd.DataFrame.copy(train_df)"
   ]
  },
  {
   "cell_type": "markdown",
   "metadata": {},
   "source": [
    "```\n",
    "ps_ind_02_cat   |        216 | 0.04% |         40 |        176\n",
    "ps_ind_04_cat   |         83 | 0.01% |         33 |         50\n",
    "ps_ind_05_cat   |       5809 | 0.98% |        484 |       5325\n",
    "ps_reg_03       |     107772 | 18.11% |       3060 |     104712\n",
    "ps_car_01_cat   |        107 | 0.02% |         34 |         73\n",
    "ps_car_02_cat   |          5 | 0.00% |          0 |          5\n",
    "ps_car_03_cat   |     411231 | 69.09% |      13450 |     397781\n",
    "ps_car_05_cat   |     266551 | 44.78% |       8452 |     258099\n",
    "ps_car_07_cat   |      11489 | 1.93% |        898 |      10591\n",
    "ps_car_09_cat   |        569 | 0.10% |         52 |        517\n",
    "ps_car_11       |          5 | 0.00% |          0 |          5\n",
    "ps_car_12       |          1 | 0.00% |          0 |          1\n",
    "ps_car_14       |      42620 | 7.16% |       1723 |      40897\n",
    "```"
   ]
  },
  {
   "cell_type": "code",
   "execution_count": 230,
   "metadata": {
    "collapsed": false
   },
   "outputs": [],
   "source": [
    "del X['target']\n",
    "del X['id']\n",
    "del X['ps_car_03_cat']\n",
    "del X['ps_car_05_cat']\n",
    "del X['ps_car_14']\n",
    "del X['ps_reg_03']"
   ]
  },
  {
   "cell_type": "code",
   "execution_count": 231,
   "metadata": {
    "collapsed": true
   },
   "outputs": [],
   "source": [
    "X_train, X_test, y_train, y_test = train_test_split(X,y,random_state=0)"
   ]
  },
  {
   "cell_type": "code",
   "execution_count": 232,
   "metadata": {
    "collapsed": false
   },
   "outputs": [
    {
     "data": {
      "text/plain": [
       "(446409, 53)"
      ]
     },
     "execution_count": 232,
     "metadata": {},
     "output_type": "execute_result"
    }
   ],
   "source": [
    "X_train.shape"
   ]
  },
  {
   "cell_type": "code",
   "execution_count": null,
   "metadata": {
    "collapsed": true
   },
   "outputs": [],
   "source": []
  },
  {
   "cell_type": "markdown",
   "metadata": {},
   "source": [
    "## SVM Model"
   ]
  },
  {
   "cell_type": "code",
   "execution_count": 233,
   "metadata": {
    "collapsed": false
   },
   "outputs": [],
   "source": [
    "from sklearn.svm import SVC"
   ]
  },
  {
   "cell_type": "code",
   "execution_count": 234,
   "metadata": {
    "collapsed": false
   },
   "outputs": [],
   "source": [
    "#X_train.replace(-1,0) # Replace -1 with 0"
   ]
  },
  {
   "cell_type": "code",
   "execution_count": 235,
   "metadata": {
    "collapsed": false
   },
   "outputs": [
    {
     "data": {
      "text/plain": [
       "pandas.core.series.Series"
      ]
     },
     "execution_count": 235,
     "metadata": {},
     "output_type": "execute_result"
    }
   ],
   "source": [
    "type(y_train)"
   ]
  },
  {
   "cell_type": "code",
   "execution_count": 236,
   "metadata": {
    "collapsed": false,
    "scrolled": true
   },
   "outputs": [
    {
     "data": {
      "text/plain": [
       "array([[ 3.,  1.,  7., ...,  0.,  0.,  0.],\n",
       "       [ 0.,  1.,  9., ...,  0.,  0.,  0.],\n",
       "       [ 2.,  1.,  4., ...,  0.,  0.,  0.],\n",
       "       ..., \n",
       "       [ 0.,  1.,  3., ...,  0.,  1.,  0.],\n",
       "       [ 4.,  1.,  5., ...,  1.,  1.,  0.],\n",
       "       [ 0.,  2.,  2., ...,  1.,  0.,  0.]])"
      ]
     },
     "execution_count": 236,
     "metadata": {},
     "output_type": "execute_result"
    }
   ],
   "source": [
    "X_train.values"
   ]
  },
  {
   "cell_type": "code",
   "execution_count": 237,
   "metadata": {
    "collapsed": false
   },
   "outputs": [
    {
     "data": {
      "text/html": [
       "<div>\n",
       "<table border=\"1\" class=\"dataframe\">\n",
       "  <thead>\n",
       "    <tr style=\"text-align: right;\">\n",
       "      <th></th>\n",
       "      <th>ps_ind_01</th>\n",
       "      <th>ps_ind_02_cat</th>\n",
       "      <th>ps_ind_03</th>\n",
       "      <th>ps_ind_04_cat</th>\n",
       "      <th>ps_ind_05_cat</th>\n",
       "      <th>ps_ind_06_bin</th>\n",
       "      <th>ps_ind_07_bin</th>\n",
       "      <th>ps_ind_08_bin</th>\n",
       "      <th>ps_ind_09_bin</th>\n",
       "      <th>ps_ind_10_bin</th>\n",
       "      <th>...</th>\n",
       "      <th>ps_calc_11</th>\n",
       "      <th>ps_calc_12</th>\n",
       "      <th>ps_calc_13</th>\n",
       "      <th>ps_calc_14</th>\n",
       "      <th>ps_calc_15_bin</th>\n",
       "      <th>ps_calc_16_bin</th>\n",
       "      <th>ps_calc_17_bin</th>\n",
       "      <th>ps_calc_18_bin</th>\n",
       "      <th>ps_calc_19_bin</th>\n",
       "      <th>ps_calc_20_bin</th>\n",
       "    </tr>\n",
       "  </thead>\n",
       "  <tbody>\n",
       "    <tr>\n",
       "      <th>95603</th>\n",
       "      <td>3</td>\n",
       "      <td>1</td>\n",
       "      <td>7</td>\n",
       "      <td>1</td>\n",
       "      <td>0</td>\n",
       "      <td>0</td>\n",
       "      <td>0</td>\n",
       "      <td>1</td>\n",
       "      <td>0</td>\n",
       "      <td>0</td>\n",
       "      <td>...</td>\n",
       "      <td>1</td>\n",
       "      <td>2</td>\n",
       "      <td>2</td>\n",
       "      <td>12</td>\n",
       "      <td>0</td>\n",
       "      <td>0</td>\n",
       "      <td>0</td>\n",
       "      <td>0</td>\n",
       "      <td>0</td>\n",
       "      <td>0</td>\n",
       "    </tr>\n",
       "    <tr>\n",
       "      <th>46235</th>\n",
       "      <td>0</td>\n",
       "      <td>1</td>\n",
       "      <td>9</td>\n",
       "      <td>0</td>\n",
       "      <td>0</td>\n",
       "      <td>0</td>\n",
       "      <td>0</td>\n",
       "      <td>0</td>\n",
       "      <td>1</td>\n",
       "      <td>0</td>\n",
       "      <td>...</td>\n",
       "      <td>11</td>\n",
       "      <td>1</td>\n",
       "      <td>4</td>\n",
       "      <td>8</td>\n",
       "      <td>0</td>\n",
       "      <td>1</td>\n",
       "      <td>1</td>\n",
       "      <td>0</td>\n",
       "      <td>0</td>\n",
       "      <td>0</td>\n",
       "    </tr>\n",
       "    <tr>\n",
       "      <th>424812</th>\n",
       "      <td>2</td>\n",
       "      <td>1</td>\n",
       "      <td>4</td>\n",
       "      <td>1</td>\n",
       "      <td>0</td>\n",
       "      <td>0</td>\n",
       "      <td>1</td>\n",
       "      <td>0</td>\n",
       "      <td>0</td>\n",
       "      <td>0</td>\n",
       "      <td>...</td>\n",
       "      <td>2</td>\n",
       "      <td>2</td>\n",
       "      <td>6</td>\n",
       "      <td>8</td>\n",
       "      <td>1</td>\n",
       "      <td>1</td>\n",
       "      <td>0</td>\n",
       "      <td>0</td>\n",
       "      <td>0</td>\n",
       "      <td>0</td>\n",
       "    </tr>\n",
       "    <tr>\n",
       "      <th>456410</th>\n",
       "      <td>1</td>\n",
       "      <td>1</td>\n",
       "      <td>9</td>\n",
       "      <td>0</td>\n",
       "      <td>0</td>\n",
       "      <td>0</td>\n",
       "      <td>1</td>\n",
       "      <td>0</td>\n",
       "      <td>0</td>\n",
       "      <td>0</td>\n",
       "      <td>...</td>\n",
       "      <td>4</td>\n",
       "      <td>1</td>\n",
       "      <td>3</td>\n",
       "      <td>7</td>\n",
       "      <td>0</td>\n",
       "      <td>0</td>\n",
       "      <td>1</td>\n",
       "      <td>0</td>\n",
       "      <td>0</td>\n",
       "      <td>0</td>\n",
       "    </tr>\n",
       "  </tbody>\n",
       "</table>\n",
       "<p>4 rows × 53 columns</p>\n",
       "</div>"
      ],
      "text/plain": [
       "        ps_ind_01  ps_ind_02_cat  ps_ind_03  ps_ind_04_cat  ps_ind_05_cat  \\\n",
       "95603           3              1          7              1              0   \n",
       "46235           0              1          9              0              0   \n",
       "424812          2              1          4              1              0   \n",
       "456410          1              1          9              0              0   \n",
       "\n",
       "        ps_ind_06_bin  ps_ind_07_bin  ps_ind_08_bin  ps_ind_09_bin  \\\n",
       "95603               0              0              1              0   \n",
       "46235               0              0              0              1   \n",
       "424812              0              1              0              0   \n",
       "456410              0              1              0              0   \n",
       "\n",
       "        ps_ind_10_bin       ...        ps_calc_11  ps_calc_12  ps_calc_13  \\\n",
       "95603               0       ...                 1           2           2   \n",
       "46235               0       ...                11           1           4   \n",
       "424812              0       ...                 2           2           6   \n",
       "456410              0       ...                 4           1           3   \n",
       "\n",
       "        ps_calc_14  ps_calc_15_bin  ps_calc_16_bin  ps_calc_17_bin  \\\n",
       "95603           12               0               0               0   \n",
       "46235            8               0               1               1   \n",
       "424812           8               1               1               0   \n",
       "456410           7               0               0               1   \n",
       "\n",
       "        ps_calc_18_bin  ps_calc_19_bin  ps_calc_20_bin  \n",
       "95603                0               0               0  \n",
       "46235                0               0               0  \n",
       "424812               0               0               0  \n",
       "456410               0               0               0  \n",
       "\n",
       "[4 rows x 53 columns]"
      ]
     },
     "execution_count": 237,
     "metadata": {},
     "output_type": "execute_result"
    }
   ],
   "source": [
    "X_train.head(4)"
   ]
  },
  {
   "cell_type": "code",
   "execution_count": 238,
   "metadata": {
    "collapsed": true
   },
   "outputs": [],
   "source": [
    "X_t = X_train.values\n",
    "y_t = y_train.values"
   ]
  },
  {
   "cell_type": "code",
   "execution_count": 239,
   "metadata": {
    "collapsed": false
   },
   "outputs": [
    {
     "data": {
      "text/plain": [
       "array([], dtype=float64)"
      ]
     },
     "execution_count": 239,
     "metadata": {},
     "output_type": "execute_result"
    }
   ],
   "source": [
    "X_t[np.isnan(X_t)]"
   ]
  },
  {
   "cell_type": "code",
   "execution_count": 240,
   "metadata": {
    "collapsed": false
   },
   "outputs": [
    {
     "name": "stdout",
     "output_type": "stream",
     "text": [
      "1 loop, best of 1: 13.9 s per loop\n"
     ]
    }
   ],
   "source": [
    "num = 1000\n",
    "svc = SVC(kernel='linear')\n",
    "%timeit -n 1 -r 1 svc.fit(X_train.values[:num],y_train.values[:num])"
   ]
  },
  {
   "cell_type": "markdown",
   "metadata": {
    "collapsed": true
   },
   "source": [
    "## Timeit , 100 samples -> 45 ms , 1000 -> 15.3 sec , 10000 -> 1.4 hours ? , 100000 -> 80 days ?\n",
    "### Assuming 340x increase in runtime from 100 to 1000 samples"
   ]
  },
  {
   "cell_type": "code",
   "execution_count": 241,
   "metadata": {
    "collapsed": true
   },
   "outputs": [],
   "source": [
    "y_pred = svc.predict(X_test)"
   ]
  },
  {
   "cell_type": "code",
   "execution_count": 242,
   "metadata": {
    "collapsed": false
   },
   "outputs": [
    {
     "data": {
      "text/plain": [
       "False"
      ]
     },
     "execution_count": 242,
     "metadata": {},
     "output_type": "execute_result"
    }
   ],
   "source": [
    "y_pred[y_pred > 0.0].any()"
   ]
  },
  {
   "cell_type": "code",
   "execution_count": 243,
   "metadata": {
    "collapsed": false
   },
   "outputs": [
    {
     "data": {
      "text/plain": [
       "0.96381793377821678"
      ]
     },
     "execution_count": 243,
     "metadata": {},
     "output_type": "execute_result"
    }
   ],
   "source": [
    "from sklearn.metrics import accuracy_score\n",
    "accuracy_score(y_test,y_pred)"
   ]
  },
  {
   "cell_type": "code",
   "execution_count": 244,
   "metadata": {
    "collapsed": false
   },
   "outputs": [],
   "source": [
    "y_pred = y_pred * 0.0 # All probabilities are 0"
   ]
  },
  {
   "cell_type": "code",
   "execution_count": 245,
   "metadata": {
    "collapsed": false
   },
   "outputs": [
    {
     "data": {
      "text/plain": [
       "0.96381793377821678"
      ]
     },
     "execution_count": 245,
     "metadata": {},
     "output_type": "execute_result"
    }
   ],
   "source": [
    "accuracy_score(y_test,y_pred)"
   ]
  },
  {
   "cell_type": "markdown",
   "metadata": {},
   "source": [
    "## With all probab set to 0.0, we get an accuracy of 96.38%"
   ]
  },
  {
   "cell_type": "markdown",
   "metadata": {},
   "source": [
    "## KNN  : Can use entire data set for training, but prediction taking a long time"
   ]
  },
  {
   "cell_type": "code",
   "execution_count": 57,
   "metadata": {
    "collapsed": true
   },
   "outputs": [],
   "source": [
    "from sklearn import neighbors"
   ]
  },
  {
   "cell_type": "code",
   "execution_count": 59,
   "metadata": {
    "collapsed": false
   },
   "outputs": [],
   "source": [
    "knn = neighbors.KNeighborsClassifier(n_neighbors=5)"
   ]
  },
  {
   "cell_type": "code",
   "execution_count": 64,
   "metadata": {
    "collapsed": false
   },
   "outputs": [
    {
     "name": "stdout",
     "output_type": "stream",
     "text": [
      "1 loop, best of 1: 15.4 s per loop\n"
     ]
    }
   ],
   "source": [
    "%timeit -n 1 -r 1 knn.fit(X_train.values,y_train.values)"
   ]
  },
  {
   "cell_type": "code",
   "execution_count": null,
   "metadata": {
    "collapsed": true
   },
   "outputs": [],
   "source": [
    "y_pred = knn.predict(X_test)\n",
    "accuracy_score(y_test,y_pred)"
   ]
  },
  {
   "cell_type": "markdown",
   "metadata": {},
   "source": [
    "## Naive Bayes : Getting 90% accuracy with entire training set, less than baseline of 96.38%"
   ]
  },
  {
   "cell_type": "code",
   "execution_count": 246,
   "metadata": {
    "collapsed": false
   },
   "outputs": [
    {
     "name": "stdout",
     "output_type": "stream",
     "text": [
      "1 loop, best of 1: 970 ms per loop\n"
     ]
    }
   ],
   "source": [
    "from sklearn.naive_bayes import GaussianNB\n",
    "gnb = GaussianNB()\n",
    "%timeit -n 1 -r 1 gnb.fit(X_train.values,y_train.values)"
   ]
  },
  {
   "cell_type": "code",
   "execution_count": 247,
   "metadata": {
    "collapsed": false
   },
   "outputs": [
    {
     "data": {
      "text/plain": [
       "0.9068903180715443"
      ]
     },
     "execution_count": 247,
     "metadata": {},
     "output_type": "execute_result"
    }
   ],
   "source": [
    "y_pred = gnb.predict(X_test)\n",
    "accuracy_score(y_test,y_pred)"
   ]
  },
  {
   "cell_type": "code",
   "execution_count": 248,
   "metadata": {
    "collapsed": false
   },
   "outputs": [
    {
     "data": {
      "text/plain": [
       "(143419,)"
      ]
     },
     "execution_count": 248,
     "metadata": {},
     "output_type": "execute_result"
    }
   ],
   "source": [
    "y_test[y_test == 0].shape"
   ]
  },
  {
   "cell_type": "markdown",
   "metadata": {},
   "source": [
    "## Logistic Regression : Getting same baseline of 96.38% with entire data set"
   ]
  },
  {
   "cell_type": "code",
   "execution_count": 249,
   "metadata": {
    "collapsed": false
   },
   "outputs": [
    {
     "data": {
      "text/plain": [
       "LogisticRegression(C=100000.0, class_weight=None, dual=False,\n",
       "          fit_intercept=True, intercept_scaling=1, max_iter=100,\n",
       "          multi_class='ovr', n_jobs=1, penalty='l2', random_state=None,\n",
       "          solver='liblinear', tol=0.0001, verbose=0, warm_start=False)"
      ]
     },
     "execution_count": 249,
     "metadata": {},
     "output_type": "execute_result"
    }
   ],
   "source": [
    "from sklearn import linear_model\n",
    "h = .02  # step size in the mesh\n",
    "\n",
    "logreg = linear_model.LogisticRegression(C=1e5)\n",
    "\n",
    "# we create an instance of Neighbours Classifier and fit the data.\n",
    "logreg.fit(X_train.values, y_train.values)"
   ]
  },
  {
   "cell_type": "code",
   "execution_count": 250,
   "metadata": {
    "collapsed": false
   },
   "outputs": [
    {
     "data": {
      "text/plain": [
       "0.96381793377821678"
      ]
     },
     "execution_count": 250,
     "metadata": {},
     "output_type": "execute_result"
    }
   ],
   "source": [
    "y_pred = logreg.predict(X_test)\n",
    "accuracy_score(y_test,y_pred)"
   ]
  }
 ],
 "metadata": {
  "anaconda-cloud": {},
  "kernelspec": {
   "display_name": "Python [conda env:python3]",
   "language": "python",
   "name": "conda-env-python3-py"
  },
  "language_info": {
   "codemirror_mode": {
    "name": "ipython",
    "version": 3
   },
   "file_extension": ".py",
   "mimetype": "text/x-python",
   "name": "python",
   "nbconvert_exporter": "python",
   "pygments_lexer": "ipython3",
   "version": "3.5.2"
  }
 },
 "nbformat": 4,
 "nbformat_minor": 1
}
