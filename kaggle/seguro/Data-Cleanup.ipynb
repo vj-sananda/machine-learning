{
 "cells": [
  {
   "cell_type": "markdown",
   "metadata": {
    "_cell_guid": "e5c2fb23-1cb3-4167-ada5-56bc3c678156",
    "_uuid": "b63939888097af7264f3ab158f686861c8848024"
   },
   "source": [
    "Import packages and load datasets"
   ]
  },
  {
   "cell_type": "code",
   "execution_count": null,
   "metadata": {
    "_cell_guid": "0fcdddba-6b54-40c0-876b-0dd13657400d",
    "_uuid": "a4aed0144b3e9a755faf6845870d08fa85401ee5",
    "collapsed": true
   },
   "outputs": [],
   "source": [
    "import numpy as np # linear algebra\n",
    "import pandas as pd # data processing, CSV file I/O (e.g. pd.read_csv)\n",
    "import matplotlib.pyplot as plt\n",
    "\n",
    "train_df = pd.read_csv('./data/train.csv', na_values=\"-1\")\n",
    "test_df = pd.read_csv('./data/test.csv', na_values=\"-1\")"
   ]
  },
  {
   "cell_type": "markdown",
   "metadata": {
    "_cell_guid": "2cc69d3d-4302-4931-b36f-cb9326cb4e09",
    "_uuid": "2a8443db6d4c872b4c184127e6ee4bcb85a4fa54"
   },
   "source": [
    "Check how much (in percents) missing values are in each feature"
   ]
  },
  {
   "cell_type": "code",
   "execution_count": null,
   "metadata": {
    "_cell_guid": "1c68b840-b9c4-4d82-8154-8802e3ffcbce",
    "_uuid": "89e2d93a5977d8bcd4c63df7b75425aef4dfb2ac",
    "collapsed": true
   },
   "outputs": [],
   "source": [
    "def describe_missing_values(df):\n",
    "    na_percent = {}\n",
    "    N = df.shape[0]\n",
    "    for column in df:\n",
    "        na_percent[column] = df[column].isnull().sum() * 100 / N\n",
    "\n",
    "    na_percent = dict(filter(lambda x: x[1] != 0, na_percent.items()))\n",
    "    plt.bar(range(len(na_percent)), na_percent.values())\n",
    "    plt.ylabel('Percent')\n",
    "    plt.xticks(range(len(na_percent)), na_percent.keys(), rotation='vertical')\n",
    "    plt.show()"
   ]
  },
  {
   "cell_type": "code",
   "execution_count": null,
   "metadata": {
    "_cell_guid": "c4d2b207-d8e1-4519-b49e-29e5f709965e",
    "_uuid": "5b98da44d601c87427887b063067d144c7486a36",
    "collapsed": true
   },
   "outputs": [],
   "source": [
    "print(\"Missing values for Train dataset\")\n",
    "describe_missing_values(train_df)\n",
    "\n",
    "print(\"Missing values for Test dataset\")\n",
    "describe_missing_values(test_df)"
   ]
  },
  {
   "cell_type": "markdown",
   "metadata": {
    "_cell_guid": "fefd020c-7a59-4495-a9d5-781d3e358963",
    "_uuid": "3018b8bb7c4494641f2bd89636d38ba1cebf011b"
   },
   "source": [
    "**Optional:** There is a feature with 40+% missing values and another with 60+% missing values. We can get rid of these features."
   ]
  },
  {
   "cell_type": "code",
   "execution_count": null,
   "metadata": {
    "_cell_guid": "b9e2e0bf-4650-448b-8870-16e9c01e369e",
    "_uuid": "50c5a1252cede61521b492a704d8f387e3b0f5cd",
    "collapsed": true
   },
   "outputs": [],
   "source": [
    "target = train_df.target\n",
    "test_id = test_df.id\n",
    "train_df.drop([\"id\", \"target\", \"ps_car_03_cat\", \"ps_car_05_cat\"], axis=1, inplace=True)\n",
    "test_df.drop([\"id\", \"ps_car_03_cat\",\"ps_car_05_cat\"], axis=1, inplace=True)"
   ]
  },
  {
   "cell_type": "markdown",
   "metadata": {
    "_cell_guid": "1be121e5-b85d-4291-8e7f-b800c80a0805",
    "_uuid": "88d9ba0e682ebb2a710a8f37f36f355d6d9df431"
   },
   "source": [
    "*    \"cat\" - categorical: fill missing values with mode value of particular column\n",
    "*    \"bit\" - binary: fill missing values with mode value of particular column\n",
    "*    all other - (continuous or ordinal): fill with mean value of particular column"
   ]
  },
  {
   "cell_type": "code",
   "execution_count": null,
   "metadata": {
    "_cell_guid": "5324d73d-df7c-4445-a8bf-444376afaee3",
    "_uuid": "1ffe4eaff79f3823eb927ae4e13f2d7524615e8e",
    "collapsed": true
   },
   "outputs": [],
   "source": [
    "cat_cols = [col for col in train_df.columns if 'cat' in col]\n",
    "bin_cols = [col for col in train_df.columns if 'bin' in col]\n",
    "con_cols = [col for col in train_df.columns if col not in bin_cols + cat_cols]\n",
    "\n",
    "for col in cat_cols:\n",
    "    train_df[col].fillna(value=train_df[col].mode()[0], inplace=True)\n",
    "    test_df[col].fillna(value=test_df[col].mode()[0], inplace=True)\n",
    "    \n",
    "for col in bin_cols:\n",
    "    train_df[col].fillna(value=train_df[col].mode()[0], inplace=True)\n",
    "    test_df[col].fillna(value=test_df[col].mode()[0], inplace=True)\n",
    "    \n",
    "for col in con_cols:\n",
    "    train_df[col].fillna(value=train_df[col].mean(), inplace=True)\n",
    "    test_df[col].fillna(value=test_df[col].mean(), inplace=True)"
   ]
  },
  {
   "cell_type": "code",
   "execution_count": null,
   "metadata": {
    "_cell_guid": "6168b9d7-a194-451a-acac-883383bd0149",
    "_uuid": "bab94d8748ba859324fd239c78812998523ae73c",
    "collapsed": true
   },
   "outputs": [],
   "source": [
    "print(\"Missing values for Train dataset\")\n",
    "describe_missing_values(train_df)\n",
    "\n",
    "print(\"Missing values for Test dataset\")\n",
    "describe_missing_values(test_df)"
   ]
  },
  {
   "cell_type": "markdown",
   "metadata": {
    "_cell_guid": "ac8d4ff5-7af8-4870-873a-3d9dce09cf17",
    "_uuid": "8a2bdc618e941d1141195f1e1afb40273661ce45"
   },
   "source": [
    "*The End ;)*"
   ]
  }
 ],
 "metadata": {
  "kernelspec": {
   "display_name": "Python [conda env:python3]",
   "language": "python",
   "name": "conda-env-python3-py"
  },
  "language_info": {
   "codemirror_mode": {
    "name": "ipython",
    "version": 3
   },
   "file_extension": ".py",
   "mimetype": "text/x-python",
   "name": "python",
   "nbconvert_exporter": "python",
   "pygments_lexer": "ipython3",
   "version": "3.5.2"
  }
 },
 "nbformat": 4,
 "nbformat_minor": 1
}
