{
 "cells": [
  {
   "cell_type": "markdown",
   "metadata": {},
   "source": [
    "### Tensorboard Simple example"
   ]
  },
  {
   "cell_type": "code",
   "execution_count": 1,
   "metadata": {
    "collapsed": true
   },
   "outputs": [],
   "source": [
    "from __future__ import absolute_import\n",
    "from __future__ import division\n",
    "from __future__ import print_function\n",
    "\n",
    "import argparse\n",
    "import sys\n",
    "\n",
    "from tensorflow.examples.tutorials.mnist import input_data\n",
    "\n",
    "import tensorflow as tf"
   ]
  },
  {
   "cell_type": "code",
   "execution_count": 2,
   "metadata": {
    "collapsed": true
   },
   "outputs": [],
   "source": [
    "config = tf.ConfigProto(device_count = {'GPU': 0})\n",
    "\n",
    "def init_weights(shape,name):\n",
    "    return tf.Variable( tf.random_normal(shape,stddev=0.01),name=name)"
   ]
  },
  {
   "cell_type": "code",
   "execution_count": 3,
   "metadata": {
    "collapsed": true
   },
   "outputs": [],
   "source": [
    "def model(X,w_h,W_h2,W_o,p_keep_input, p_keep_hidden):\n",
    "    with tf.name_scope(\"layer1\"):\n",
    "        X = tf.nn.dropout(X,p_keep_input)\n",
    "        h = tf.nn.relu(tf.matmul(X,w_h))\n",
    "    with tf.name_scope(\"layer2\"):\n",
    "        h = tf.nn.dropout(h,p_keep_hidden)\n",
    "        h2 = tf.nn.relu(tf.matmul(h,w_h2))\n",
    "    with tf.name_scope(\"layer3\"):\n",
    "        h2 = tf.nn.dropout(h2,p_keep_hidden)\n",
    "        return tf.matmul(h2,w_o)\n",
    "\n"
   ]
  },
  {
   "cell_type": "code",
   "execution_count": 4,
   "metadata": {
    "collapsed": false
   },
   "outputs": [
    {
     "name": "stdout",
     "output_type": "stream",
     "text": [
      "Extracting MNIST_data/train-images-idx3-ubyte.gz\n",
      "Extracting MNIST_data/train-labels-idx1-ubyte.gz\n",
      "Extracting MNIST_data/t10k-images-idx3-ubyte.gz\n",
      "Extracting MNIST_data/t10k-labels-idx1-ubyte.gz\n"
     ]
    }
   ],
   "source": [
    "#step1 get MNIST data\n",
    "mnist = input_data.read_data_sets(\"MNIST_data/\",one_hot=True)\n",
    "trX,trY,teX,teY = mnist.train.images, mnist.train.labels,mnist.test.images,mnist.test.labels"
   ]
  },
  {
   "cell_type": "code",
   "execution_count": 5,
   "metadata": {
    "collapsed": false
   },
   "outputs": [],
   "source": [
    "#Step 2, create placeholders for inputs\n",
    "X = tf.placeholder(\"float\", [None, 784], name=\"X\")\n",
    "Y = tf.placeholder(\"float\", [None, 10], name=\"Y\")"
   ]
  },
  {
   "cell_type": "code",
   "execution_count": 6,
   "metadata": {
    "collapsed": true
   },
   "outputs": [],
   "source": [
    "#Step 3 : initialize weights\n",
    "w_h = init_weights([784,625],\"w_h\")\n",
    "w_h2= init_weights([625,625],\"w_h2\")\n",
    "w_o=init_weights([625,10],\"w_o\")"
   ]
  },
  {
   "cell_type": "code",
   "execution_count": 7,
   "metadata": {
    "collapsed": false
   },
   "outputs": [
    {
     "data": {
      "text/plain": [
       "<tf.Tensor 'w_o_summ:0' shape=() dtype=string>"
      ]
     },
     "execution_count": 7,
     "metadata": {},
     "output_type": "execute_result"
    }
   ],
   "source": [
    "#Step 4: Add histogram summaries for weights\n",
    "tf.summary.histogram(\"w_h_summ\",w_h)\n",
    "tf.summary.histogram(\"w_h2_summ\",w_h2)\n",
    "tf.summary.histogram(\"w_o_summ\",w_o)"
   ]
  },
  {
   "cell_type": "code",
   "execution_count": 8,
   "metadata": {
    "collapsed": true
   },
   "outputs": [],
   "source": [
    "#Step 5: Add dropout placeholders\n",
    "p_keep_input = tf.placeholder(\"float\",name=\"p_keep_input\")\n",
    "p_keep_hidden = tf.placeholder(\"float\",name=\"p_keep_hidden\")"
   ]
  },
  {
   "cell_type": "code",
   "execution_count": 9,
   "metadata": {
    "collapsed": true
   },
   "outputs": [],
   "source": [
    "#Step 6: Create model\n",
    "py_x = model(X,w_h,w_h2,w_o,p_keep_input,p_keep_hidden)"
   ]
  },
  {
   "cell_type": "code",
   "execution_count": 10,
   "metadata": {
    "collapsed": false
   },
   "outputs": [],
   "source": [
    "#Step 7: Create cost function\n",
    "with tf.name_scope(\"cost\"):\n",
    "    cost = tf.reduce_mean(tf.nn.softmax_cross_entropy_with_logits(py_x,Y))\n",
    "    train_op = tf.train.RMSPropOptimizer(0.001,0.9).minimize(cost)\n",
    "    tf.summary.scalar(\"cost\",cost)\n",
    "#Step 8: Measure accuracy\n",
    "with tf.name_scope(\"accuracy\"):\n",
    "    correct_pred = tf.equal( tf.argmax(Y,1) , tf.argmax(py_x,1) )\n",
    "    acc_op = tf.reduce_mean(tf.cast(correct_pred,\"float\"))\n",
    "    tf.summary.scalar(\"accuracy\", acc_op)"
   ]
  },
  {
   "cell_type": "code",
   "execution_count": 11,
   "metadata": {
    "collapsed": false,
    "scrolled": true
   },
   "outputs": [
    {
     "name": "stdout",
     "output_type": "stream",
     "text": [
      "WARNING:tensorflow:From <ipython-input-11-a08d72c959ea>:9: initialize_all_variables (from tensorflow.python.ops.variables) is deprecated and will be removed after 2017-03-02.\n",
      "Instructions for updating:\n",
      "Use `tf.global_variables_initializer` instead.\n",
      "0 0.9366\n",
      "1 0.9567\n",
      "2 0.9683\n",
      "3 0.9731\n",
      "4 0.9774\n",
      "5 0.9766\n",
      "6 0.9784\n",
      "7 0.9815\n",
      "8 0.9792\n",
      "9 0.9801\n",
      "10 0.9814\n",
      "11 0.9811\n",
      "12 0.9816\n",
      "13 0.9818\n",
      "14 0.98\n",
      "15 0.9823\n",
      "16 0.9815\n",
      "17 0.9813\n",
      "18 0.9816\n",
      "19 0.9817\n",
      "20 0.9818\n",
      "21 0.9832\n",
      "22 0.9829\n",
      "23 0.9826\n",
      "24 0.9817\n",
      "25 0.9814\n",
      "26 0.9825\n",
      "27 0.9825\n",
      "28 0.9834\n",
      "29 0.9838\n",
      "30 0.9824\n",
      "31 0.9827\n",
      "32 0.9831\n",
      "33 0.9835\n",
      "34 0.9825\n",
      "35 0.9828\n",
      "36 0.9837\n",
      "37 0.9837\n",
      "38 0.983\n",
      "39 0.9849\n",
      "40 0.9839\n",
      "41 0.9835\n",
      "42 0.9825\n",
      "43 0.983\n",
      "44 0.9844\n",
      "45 0.9832\n",
      "46 0.9836\n",
      "47 0.9825\n",
      "48 0.9842\n",
      "49 0.9845\n",
      "50 0.9825\n",
      "51 0.9844\n",
      "52 0.9828\n",
      "53 0.9852\n",
      "54 0.9842\n",
      "55 0.9849\n",
      "56 0.9833\n",
      "57 0.9851\n",
      "58 0.9846\n",
      "59 0.9847\n",
      "60 0.9841\n",
      "61 0.9831\n",
      "62 0.9829\n",
      "63 0.9836\n",
      "64 0.9832\n",
      "65 0.9837\n",
      "66 0.9845\n",
      "67 0.9855\n",
      "68 0.9845\n",
      "69 0.9834\n",
      "70 0.9851\n",
      "71 0.9832\n",
      "72 0.9838\n",
      "73 0.9844\n",
      "74 0.9831\n",
      "75 0.9849\n",
      "76 0.9845\n",
      "77 0.9842\n",
      "78 0.9823\n",
      "79 0.9845\n",
      "80 0.9846\n",
      "81 0.9849\n",
      "82 0.9847\n",
      "83 0.9866\n",
      "84 0.9836\n",
      "85 0.9847\n",
      "86 0.9858\n",
      "87 0.9843\n",
      "88 0.9836\n",
      "89 0.9835\n",
      "90 0.9847\n",
      "91 0.985\n",
      "92 0.985\n",
      "93 0.9843\n",
      "94 0.9853\n",
      "95 0.9848\n",
      "96 0.9857\n",
      "97 0.9856\n",
      "98 0.9853\n",
      "99 0.9851\n"
     ]
    }
   ],
   "source": [
    "#Step 9: Create a session\n",
    "with tf.Session(config=config) as sess:\n",
    "    #Step 10 create a log writer\n",
    "    writer = tf.summary.FileWriter(\"./logs/nn_logs\",sess.graph)\n",
    "    #merged = tf.summary.merge([w_h_summ,w_h2_summ,w_o_summ, cost_summ, acc_summary])\n",
    "    merged = tf.summary.merge_all()\n",
    "        \n",
    "    # Step 11 you need to initialize all variables\n",
    "    tf.initialize_all_variables().run()\n",
    "\n",
    "    #Step 12 train the  model\n",
    "    for i in range(100):\n",
    "        for start, end in zip(range(0, len(trX), 128), range(128, len(trX)+1, 128)):\n",
    "            sess.run(train_op, feed_dict={X: trX[start:end], Y: trY[start:end],p_keep_input: 0.8, p_keep_hidden: 0.5})\n",
    "        \n",
    "        acc = sess.run(acc_op, feed_dict={X: teX, Y: teY,p_keep_input: 1.0, p_keep_hidden: 1.0})\n",
    "        summary = sess.run(merged, feed_dict={X: teX, Y: teY,p_keep_input: 1.0, p_keep_hidden: 1.0})\n",
    "\n",
    "        writer.add_summary(summary, i)  # Write summary\n",
    "        print(i, acc)                   # Report the accuracy    "
   ]
  },
  {
   "cell_type": "code",
   "execution_count": 12,
   "metadata": {
    "collapsed": true
   },
   "outputs": [],
   "source": [
    "sess.close()"
   ]
  }
 ],
 "metadata": {
  "anaconda-cloud": {},
  "kernelspec": {
   "display_name": "Python [default]",
   "language": "python",
   "name": "python2"
  },
  "language_info": {
   "codemirror_mode": {
    "name": "ipython",
    "version": 2
   },
   "file_extension": ".py",
   "mimetype": "text/x-python",
   "name": "python",
   "nbconvert_exporter": "python",
   "pygments_lexer": "ipython2",
   "version": "2.7.12"
  }
 },
 "nbformat": 4,
 "nbformat_minor": 1
}
