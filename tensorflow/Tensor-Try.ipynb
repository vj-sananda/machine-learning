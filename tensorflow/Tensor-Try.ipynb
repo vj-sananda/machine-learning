{
 "cells": [
  {
   "cell_type": "markdown",
   "metadata": {},
   "source": [
    "## Tensor Try"
   ]
  },
  {
   "cell_type": "code",
   "execution_count": 1,
   "metadata": {
    "collapsed": true
   },
   "outputs": [],
   "source": [
    "import tensorflow as tf"
   ]
  },
  {
   "cell_type": "code",
   "execution_count": 2,
   "metadata": {
    "collapsed": true
   },
   "outputs": [],
   "source": [
    "import numpy as np"
   ]
  },
  {
   "cell_type": "code",
   "execution_count": 3,
   "metadata": {
    "collapsed": true
   },
   "outputs": [],
   "source": [
    "a = np.zeros((2,2))\n",
    "b = np.ones((2,2))"
   ]
  },
  {
   "cell_type": "code",
   "execution_count": 4,
   "metadata": {
    "collapsed": false
   },
   "outputs": [
    {
     "data": {
      "text/plain": [
       "<tensorflow.python.client.session.InteractiveSession at 0x125eab350>"
      ]
     },
     "execution_count": 4,
     "metadata": {},
     "output_type": "execute_result"
    }
   ],
   "source": [
    "tf.InteractiveSession()"
   ]
  },
  {
   "cell_type": "code",
   "execution_count": 5,
   "metadata": {
    "collapsed": true
   },
   "outputs": [],
   "source": [
    "a = tf.zeros((2,2))"
   ]
  },
  {
   "cell_type": "code",
   "execution_count": 6,
   "metadata": {
    "collapsed": false
   },
   "outputs": [
    {
     "data": {
      "text/plain": [
       "array([ 0.,  0.], dtype=float32)"
      ]
     },
     "execution_count": 6,
     "metadata": {},
     "output_type": "execute_result"
    }
   ],
   "source": [
    "tf.reduce_sum(a, reduction_indices=1).eval()"
   ]
  },
  {
   "cell_type": "code",
   "execution_count": 7,
   "metadata": {
    "collapsed": false
   },
   "outputs": [
    {
     "data": {
      "text/plain": [
       "TensorShape([Dimension(2), Dimension(2)])"
      ]
     },
     "execution_count": 7,
     "metadata": {},
     "output_type": "execute_result"
    }
   ],
   "source": [
    "a.get_shape()"
   ]
  },
  {
   "cell_type": "code",
   "execution_count": 8,
   "metadata": {
    "collapsed": true
   },
   "outputs": [],
   "source": [
    "ta=tf.zeros((2,2))"
   ]
  },
  {
   "cell_type": "code",
   "execution_count": 9,
   "metadata": {
    "collapsed": false
   },
   "outputs": [
    {
     "name": "stdout",
     "output_type": "stream",
     "text": [
      "Tensor(\"zeros_1:0\", shape=(2, 2), dtype=float32)\n"
     ]
    }
   ],
   "source": [
    "print(ta)"
   ]
  },
  {
   "cell_type": "code",
   "execution_count": 10,
   "metadata": {
    "collapsed": true
   },
   "outputs": [],
   "source": [
    "ta = tf.zeros((2,2),name=\"ta\")"
   ]
  },
  {
   "cell_type": "code",
   "execution_count": 11,
   "metadata": {
    "collapsed": false
   },
   "outputs": [
    {
     "data": {
      "text/plain": [
       "<tf.Tensor 'ta:0' shape=(2, 2) dtype=float32>"
      ]
     },
     "execution_count": 11,
     "metadata": {},
     "output_type": "execute_result"
    }
   ],
   "source": [
    "ta"
   ]
  },
  {
   "cell_type": "code",
   "execution_count": 12,
   "metadata": {
    "collapsed": false
   },
   "outputs": [
    {
     "name": "stdout",
     "output_type": "stream",
     "text": [
      "[[ 0.  0.]\n",
      " [ 0.  0.]]\n"
     ]
    }
   ],
   "source": [
    "print(ta).eval()"
   ]
  },
  {
   "cell_type": "code",
   "execution_count": 13,
   "metadata": {
    "collapsed": false
   },
   "outputs": [
    {
     "name": "stdout",
     "output_type": "stream",
     "text": [
      "Tensor(\"mul:0\", shape=(), dtype=float32)\n",
      "WARNING:tensorflow:From <ipython-input-13-f5e129b2bac4>:6: initialize_all_variables (from tensorflow.python.ops.variables) is deprecated and will be removed after 2017-03-02.\n",
      "Instructions for updating:\n",
      "Use `tf.global_variables_initializer` instead.\n",
      "30.0\n"
     ]
    }
   ],
   "source": [
    "a = tf.Variable(5.0)\n",
    "b = tf.Variable(6.0)\n",
    "c = a * b\n",
    "with tf.Session() as sess:\n",
    "    print(c)\n",
    "    sess.run(tf.initialize_all_variables())\n",
    "    print(sess.run(c))"
   ]
  },
  {
   "cell_type": "code",
   "execution_count": 14,
   "metadata": {
    "collapsed": true
   },
   "outputs": [],
   "source": [
    "W1 = tf.ones([2,2])\n",
    "W2 = tf.Variable( tf.zeros([2,2]), name='weights')"
   ]
  },
  {
   "cell_type": "code",
   "execution_count": 15,
   "metadata": {
    "collapsed": false
   },
   "outputs": [],
   "source": [
    "isess = tf.get_default_session()\n",
    "isess.run(tf.global_variables_initializer())"
   ]
  },
  {
   "cell_type": "code",
   "execution_count": 16,
   "metadata": {
    "collapsed": false
   },
   "outputs": [
    {
     "name": "stdout",
     "output_type": "stream",
     "text": [
      "[[ 0.  0.]\n",
      " [ 0.  0.]]\n"
     ]
    }
   ],
   "source": [
    "print(W2.eval())"
   ]
  },
  {
   "cell_type": "code",
   "execution_count": 17,
   "metadata": {
    "collapsed": false
   },
   "outputs": [
    {
     "data": {
      "text/plain": [
       "<tf.Tensor 'Const:0' shape=(3, 3) dtype=float64>"
      ]
     },
     "execution_count": 17,
     "metadata": {},
     "output_type": "execute_result"
    }
   ],
   "source": [
    "a = np.zeros([3,3])\n",
    "ta = tf.convert_to_tensor(a)\n",
    "ta"
   ]
  },
  {
   "cell_type": "code",
   "execution_count": 18,
   "metadata": {
    "collapsed": false
   },
   "outputs": [
    {
     "data": {
      "text/plain": [
       "<tf.Tensor 'Const_1:0' shape=(3,) dtype=int32>"
      ]
     },
     "execution_count": 18,
     "metadata": {},
     "output_type": "execute_result"
    }
   ],
   "source": [
    "b = [ 1,2,3]\n",
    "tb = tf.convert_to_tensor(b)\n",
    "tb"
   ]
  },
  {
   "cell_type": "code",
   "execution_count": 19,
   "metadata": {
    "collapsed": false
   },
   "outputs": [
    {
     "data": {
      "text/plain": [
       "array([1, 2, 3], dtype=int32)"
      ]
     },
     "execution_count": 19,
     "metadata": {},
     "output_type": "execute_result"
    }
   ],
   "source": [
    "isess.run(tb)"
   ]
  },
  {
   "cell_type": "code",
   "execution_count": 20,
   "metadata": {
    "collapsed": true
   },
   "outputs": [],
   "source": [
    "a = [ 1,2,3] \n",
    "b = [[1],[2]]\n"
   ]
  },
  {
   "cell_type": "code",
   "execution_count": 21,
   "metadata": {
    "collapsed": false
   },
   "outputs": [],
   "source": [
    "ta = tf.convert_to_tensor(a)\n",
    "tb = tf.convert_to_tensor(b)"
   ]
  },
  {
   "cell_type": "code",
   "execution_count": 22,
   "metadata": {
    "collapsed": false
   },
   "outputs": [],
   "source": [
    "out = ta * tb"
   ]
  },
  {
   "cell_type": "code",
   "execution_count": 27,
   "metadata": {
    "collapsed": true
   },
   "outputs": [],
   "source": [
    "out = tb * ta"
   ]
  },
  {
   "cell_type": "code",
   "execution_count": 28,
   "metadata": {
    "collapsed": false
   },
   "outputs": [
    {
     "name": "stdout",
     "output_type": "stream",
     "text": [
      "Help on function get_variable in module tensorflow.python.ops.variable_scope:\n",
      "\n",
      "get_variable(name, shape=None, dtype=None, initializer=None, regularizer=None, trainable=True, collections=None, caching_device=None, partitioner=None, validate_shape=True, custom_getter=None)\n",
      "    Gets an existing variable with these parameters or create a new one.\n",
      "    \n",
      "    This function prefixes the name with the current variable scope\n",
      "    and performs reuse checks. See the\n",
      "    [Variable Scope How To](../../how_tos/variable_scope/index.md)\n",
      "    for an extensive description of how reusing works. Here is a basic example:\n",
      "    \n",
      "    ```python\n",
      "    with tf.variable_scope(\"foo\"):\n",
      "        v = tf.get_variable(\"v\", [1])  # v.name == \"foo/v:0\"\n",
      "        w = tf.get_variable(\"w\", [1])  # w.name == \"foo/w:0\"\n",
      "    with tf.variable_scope(\"foo\", reuse=True)\n",
      "        v1 = tf.get_variable(\"v\")  # The same as v above.\n",
      "    ```\n",
      "    \n",
      "    If initializer is `None` (the default), the default initializer passed in\n",
      "    the variable scope will be used. If that one is `None` too, a\n",
      "    `uniform_unit_scaling_initializer` will be used. The initializer can also be\n",
      "    a Tensor, in which case the variable is initialized to this value and shape.\n",
      "    \n",
      "    Similarly, if the regularizer is `None` (the default), the default regularizer\n",
      "    passed in the variable scope will be used (if that is `None` too,\n",
      "    then by default no regularization is performed).\n",
      "    \n",
      "    If a partitioner is provided, a `PartitionedVariable` is returned.\n",
      "    Accessing this object as a `Tensor` returns the shards concatenated along\n",
      "    the partition axis.\n",
      "    \n",
      "    Some useful partitioners are available.  See, e.g.,\n",
      "    `variable_axis_size_partitioner` and `min_max_variable_partitioner`.\n",
      "    \n",
      "    Args:\n",
      "      name: The name of the new or existing variable.\n",
      "      shape: Shape of the new or existing variable.\n",
      "      dtype: Type of the new or existing variable (defaults to `DT_FLOAT`).\n",
      "      initializer: Initializer for the variable if one is created.\n",
      "      regularizer: A (Tensor -> Tensor or None) function; the result of\n",
      "        applying it on a newly created variable will be added to the collection\n",
      "        GraphKeys.REGULARIZATION_LOSSES and can be used for regularization.\n",
      "      trainable: If `True` also add the variable to the graph collection\n",
      "        `GraphKeys.TRAINABLE_VARIABLES` (see `tf.Variable`).\n",
      "      collections: List of graph collections keys to add the Variable to.\n",
      "        Defaults to `[GraphKeys.GLOBAL_VARIABLES]` (see `tf.Variable`).\n",
      "      caching_device: Optional device string or function describing where the\n",
      "        Variable should be cached for reading.  Defaults to the Variable's\n",
      "        device.  If not `None`, caches on another device.  Typical use is to\n",
      "        cache on the device where the Ops using the Variable reside, to\n",
      "        deduplicate copying through `Switch` and other conditional statements.\n",
      "      partitioner: Optional callable that accepts a fully defined `TensorShape`\n",
      "        and `dtype` of the Variable to be created, and returns a list of\n",
      "        partitions for each axis (currently only one axis can be partitioned).\n",
      "      validate_shape: If False, allows the variable to be initialized with a\n",
      "          value of unknown shape. If True, the default, the shape of initial_value\n",
      "          must be known.\n",
      "      custom_getter: Callable that takes as a first argument the true getter, and\n",
      "        allows overwriting the internal get_variable method.\n",
      "        The signature of `custom_getter` should match that of this method,\n",
      "        but the most future-proof version will allow for changes:\n",
      "        `def custom_getter(getter, *args, **kwargs)`.  Direct access to\n",
      "        all `get_variable` parameters is also allowed:\n",
      "        `def custom_getter(getter, name, *args, **kwargs)`.  A simple identity\n",
      "        custom getter that simply creates variables with modified names is:\n",
      "        ```python\n",
      "        def custom_getter(getter, name, *args, **kwargs):\n",
      "          return getter(name + '_suffix', *args, **kwargs)\n",
      "        ```\n",
      "    \n",
      "    Returns:\n",
      "      The created or existing `Variable` (or `PartitionedVariable`, if a\n",
      "      partitioner was used).\n",
      "    \n",
      "    Raises:\n",
      "      ValueError: when creating a new variable and shape is not declared,\n",
      "        when violating reuse during variable creation, or when `initializer` dtype\n",
      "        and `dtype` don't match. Reuse is set inside `variable_scope`.\n",
      "\n"
     ]
    }
   ],
   "source": [
    "help(tf.get_variable)"
   ]
  },
  {
   "cell_type": "code",
   "execution_count": 37,
   "metadata": {
    "collapsed": false
   },
   "outputs": [
    {
     "name": "stdout",
     "output_type": "stream",
     "text": [
      "foo/v:0\n"
     ]
    }
   ],
   "source": [
    "with tf.variable_scope('foo'):\n",
    "    tf.get_variable_scope().reuse_variables()\n",
    "    v = tf.get_variable('v',[1])\n",
    "print(v.name)"
   ]
  },
  {
   "cell_type": "markdown",
   "metadata": {},
   "source": [
    "## Linear Regression in Tensorflow"
   ]
  },
  {
   "cell_type": "code",
   "execution_count": 38,
   "metadata": {
    "collapsed": false
   },
   "outputs": [
    {
     "data": {
      "text/plain": [
       "<matplotlib.collections.PathCollection at 0x12fb20890>"
      ]
     },
     "execution_count": 38,
     "metadata": {},
     "output_type": "execute_result"
    },
    {
     "data": {
      "image/png": "[encoded data removed]",
      "text/plain": [
       "<matplotlib.figure.Figure at 0x12e3c26d0>"
      ]
     },
     "metadata": {},
     "output_type": "display_data"
    }
   ],
   "source": [
    "import matplotlib.pyplot as plt\n",
    "%matplotlib inline\n",
    "X_data = np.arange(100,step=0.1)\n",
    "y_data = X_data + 20 * np.sin(X_data/10)\n",
    "plt.scatter(X_data,y_data)\n"
   ]
  },
  {
   "cell_type": "code",
   "execution_count": 40,
   "metadata": {
    "collapsed": false
   },
   "outputs": [
    {
     "name": "stdout",
     "output_type": "stream",
     "text": [
      "(1000, 1)\n",
      "(1000, 1)\n",
      "(1000, 1)\n",
      "(1000, 1)\n"
     ]
    }
   ],
   "source": [
    "n_samples = 1000\n",
    "batch_size = 100\n",
    "\n",
    "print(X_data.shape)\n",
    "print(y_data.shape)\n",
    "\n",
    "#Tensorflow is finicky about shapes\n",
    "X_data = np.reshape(X_data, (n_samples,1))\n",
    "y_data = np.reshape(y_data, (n_samples,1))\n",
    "\n",
    "print(X_data.shape)\n",
    "print(y_data.shape)\n",
    "\n",
    "#Define placeholders\n",
    "X = tf.placeholder(tf.float32, shape=(batch_size,1))\n",
    "y = tf.placeholder(tf.float32, shape=(batch_size,1))\n",
    "\n"
   ]
  },
  {
   "cell_type": "code",
   "execution_count": 41,
   "metadata": {
    "collapsed": true
   },
   "outputs": [],
   "source": [
    "#Define variables\n",
    "with tf.variable_scope('linear-regression'):\n",
    "    W=tf.get_variable('weights',(1,1),initializer=tf.random_normal_initializer())\n",
    "    b = tf.get_variable('bias',(1,),initializer = tf.constant_initializer(0.0))\n",
    "    y_pred = tf.matmul(X,W) + b\n",
    "    loss = tf.reduce_mean((y-y_pred)**2/n_samples)"
   ]
  },
  {
   "cell_type": "code",
   "execution_count": 42,
   "metadata": {
    "collapsed": true
   },
   "outputs": [],
   "source": [
    "#Gradient descent optimization of loss function\n",
    "opt = tf.train.AdamOptimizer()\n",
    "opt_op = opt.minimize(loss)"
   ]
  },
  {
   "cell_type": "code",
   "execution_count": 62,
   "metadata": {
    "collapsed": false
   },
   "outputs": [
    {
     "name": "stdout",
     "output_type": "stream",
     "text": [
      "WARNING:tensorflow:From <ipython-input-62-7f7a4a2e011a>:2: initialize_all_variables (from tensorflow.python.ops.variables) is deprecated and will be removed after 2017-03-02.\n",
      "Instructions for updating:\n",
      "Use `tf.global_variables_initializer` instead.\n",
      "[[ 1.00047052]]\n",
      "[ 3.14767528]\n"
     ]
    }
   ],
   "source": [
    "with tf.Session() as sess:\n",
    "    sess.run(tf.initialize_all_variables())\n",
    "    for _ in range(10000):\n",
    "        indices = np.random.choice(n_samples,batch_size)\n",
    "        X_batch, y_batch = X_data[indices], y_data[indices]\n",
    "        _,loss_val = sess.run([opt_op,loss],feed_dict={X:X_batch, y:y_batch})\n",
    "    W_final = sess.run(W)\n",
    "    bias_final = sess.run(b)\n",
    "print(W_final)\n",
    "print(bias_final)"
   ]
  },
  {
   "cell_type": "code",
   "execution_count": 63,
   "metadata": {
    "collapsed": false
   },
   "outputs": [],
   "source": [
    "y_regr = X_data * W_final + bias_final"
   ]
  },
  {
   "cell_type": "code",
   "execution_count": 64,
   "metadata": {
    "collapsed": false
   },
   "outputs": [
    {
     "data": {
      "text/plain": [
       "[<matplotlib.lines.Line2D at 0x1356ef610>,\n",
       " <matplotlib.lines.Line2D at 0x1356ef810>]"
      ]
     },
     "execution_count": 64,
     "metadata": {},
     "output_type": "execute_result"
    },
    {
     "data": {
      "image/png": "[encoded data removed]",
      "text/plain": [
       "<matplotlib.figure.Figure at 0x12fe81fd0>"
      ]
     },
     "metadata": {},
     "output_type": "display_data"
    }
   ],
   "source": [
    "plt.plot(X_data,y_regr,X_data,y_data)"
   ]
  },
  {
   "cell_type": "code",
   "execution_count": null,
   "metadata": {
    "collapsed": true
   },
   "outputs": [],
   "source": []
  }
 ],
 "metadata": {
  "anaconda-cloud": {},
  "kernelspec": {
   "display_name": "Python [default]",
   "language": "python",
   "name": "python2"
  },
  "language_info": {
   "codemirror_mode": {
    "name": "ipython",
    "version": 2
   },
   "file_extension": ".py",
   "mimetype": "text/x-python",
   "name": "python",
   "nbconvert_exporter": "python",
   "pygments_lexer": "ipython2",
   "version": "2.7.12"
  }
 },
 "nbformat": 4,
 "nbformat_minor": 1
}
