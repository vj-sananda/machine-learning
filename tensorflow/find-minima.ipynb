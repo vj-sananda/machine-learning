{
 "cells": [
  {
   "cell_type": "markdown",
   "metadata": {},
   "source": [
    "### Using Tensorflow as a generalized compute graph\n",
    "\n",
    "Here we define a function \n",
    "\n",
    "```\n",
    "y = 0.01*x**5 -0.4*x**2+0.3*x**2-0.8*x-0.55\n",
    "```\n",
    "and find the value of x for which y is minimized \n",
    "\n",
    "(local minima of y)\n",
    "\n",
    "![Function](./func-minima.jpg)"
   ]
  },
  {
   "cell_type": "code",
   "execution_count": 55,
   "metadata": {
    "collapsed": false
   },
   "outputs": [
    {
     "name": "stdout",
     "output_type": "stream",
     "text": [
      "(0, array([-0.36253637], dtype=float32))\n",
      "(20, array([ 1.36150932], dtype=float32))\n",
      "(40, array([ 2.21065044], dtype=float32))\n",
      "(60, array([ 2.23443651], dtype=float32))\n",
      "(80, array([ 2.23469543], dtype=float32))\n",
      "(100, array([ 2.23469782], dtype=float32))\n",
      "(120, array([ 2.23469782], dtype=float32))\n",
      "(140, array([ 2.23469782], dtype=float32))\n",
      "(160, array([ 2.23469782], dtype=float32))\n",
      "(180, array([ 2.23469782], dtype=float32))\n"
     ]
    }
   ],
   "source": [
    "import tensorflow as tf\n",
    "import numpy as np\n",
    "import matplotlib.pyplot as plt\n",
    "\n",
    "a = tf.constant(0.3)\n",
    "b = tf.constant(0.4)\n",
    "c = tf.constant(-0.55)\n",
    "\n",
    "x = tf.Variable( tf.random_uniform([1],-2,2))\n",
    "\n",
    "y = 0.01*x**5 -0.4*x**2+0.3*x**2-0.8*x-0.55\n",
    "\n",
    "#This will just find the (local) minima\n",
    "loss = y \n",
    "\n",
    "optimizer = tf.train.GradientDescentOptimizer(0.1)\n",
    "\n",
    "train = optimizer.minimize(loss)\n",
    "\n",
    "# Before starting, initialize the variables.  We will 'run' this first.\n",
    "init = tf.global_variables_initializer()\n",
    "\n",
    "#For tf 0.10 and below\n",
    "#init = tf.initialize_all_variables()\n",
    "\n",
    "# Launch the graph.\n",
    "sess = tf.Session()\n",
    "sess.run(init)\n",
    "\n",
    "#Run gradient descent\n",
    "for step in range(200):\n",
    "    sess.run(train)\n",
    "    if step % 20 == 0:\n",
    "        print(step, sess.run(x))\n",
    "\n"
   ]
  },
  {
   "cell_type": "markdown",
   "metadata": {},
   "source": [
    "### Results\n",
    "\n",
    "Notice that it converges to the minima , if X happens to be initialized to a value > -2.4\n",
    "\n",
    "If not, X starts at -3, gradient descent will quickly take X to minus infinity (represented by nan)\n",
    "\n",
    "since that minimizes y.\n"
   ]
  }
 ],
 "metadata": {
  "anaconda-cloud": {},
  "kernelspec": {
   "display_name": "Python [conda root]",
   "language": "python",
   "name": "conda-root-py"
  },
  "language_info": {
   "codemirror_mode": {
    "name": "ipython",
    "version": 2
   },
   "file_extension": ".py",
   "mimetype": "text/x-python",
   "name": "python",
   "nbconvert_exporter": "python",
   "pygments_lexer": "ipython2",
   "version": "2.7.12"
  }
 },
 "nbformat": 4,
 "nbformat_minor": 1
}
