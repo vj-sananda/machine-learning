{
 "cells": [
  {
   "cell_type": "markdown",
   "metadata": {
    "colab_type": "text",
    "id": "kR-4eNdK6lYS"
   },
   "source": [
    "Deep Learning\n",
    "=============\n",
    "\n",
    "Assignment 2\n",
    "------------\n",
    "\n",
    "Previously in `1_notmnist.ipynb`, we created a pickle with formatted datasets for training, development and testing on the [notMNIST dataset](http://yaroslavvb.blogspot.com/2011/09/notmnist-dataset.html).\n",
    "\n",
    "The goal of this assignment is to progressively train deeper and more accurate models using TensorFlow."
   ]
  },
  {
   "cell_type": "code",
   "execution_count": 1,
   "metadata": {
    "cellView": "both",
    "colab": {
     "autoexec": {
      "startup": false,
      "wait_interval": 0
     }
    },
    "colab_type": "code",
    "collapsed": false,
    "id": "JLpLa8Jt7Vu4"
   },
   "outputs": [],
   "source": [
    "# These are all the modules we'll be using later. Make sure you can import them\n",
    "# before proceeding further.\n",
    "from __future__ import print_function\n",
    "import numpy as np\n",
    "import tensorflow as tf\n",
    "from six.moves import cPickle as pickle\n",
    "from six.moves import range"
   ]
  },
  {
   "cell_type": "markdown",
   "metadata": {
    "colab_type": "text",
    "id": "1HrCK6e17WzV"
   },
   "source": [
    "First reload the data we generated in `1_notmnist.ipynb`."
   ]
  },
  {
   "cell_type": "code",
   "execution_count": 2,
   "metadata": {
    "cellView": "both",
    "colab": {
     "autoexec": {
      "startup": false,
      "wait_interval": 0
     },
     "output_extras": [
      {
       "item_id": 1
      }
     ]
    },
    "colab_type": "code",
    "collapsed": false,
    "executionInfo": {
     "elapsed": 19456,
     "status": "ok",
     "timestamp": 1449847956073,
     "user": {
      "color": "",
      "displayName": "",
      "isAnonymous": false,
      "isMe": true,
      "permissionId": "",
      "photoUrl": "",
      "sessionId": "0",
      "userId": ""
     },
     "user_tz": 480
    },
    "id": "y3-cj1bpmuxc",
    "outputId": "0ddb1607-1fc4-4ddb-de28-6c7ab7fb0c33"
   },
   "outputs": [
    {
     "name": "stdout",
     "output_type": "stream",
     "text": [
      "Training set (200000, 28, 28) (200000,)\n",
      "Validation set (10000, 28, 28) (10000,)\n",
      "Test set (10000, 28, 28) (10000,)\n"
     ]
    }
   ],
   "source": [
    "pickle_file = 'notMNIST.pickle'\n",
    "\n",
    "with open(pickle_file, 'rb') as f:\n",
    "  save = pickle.load(f)\n",
    "  train_dataset = save['train_dataset']\n",
    "  train_labels = save['train_labels']\n",
    "  valid_dataset = save['valid_dataset']\n",
    "  valid_labels = save['valid_labels']\n",
    "  test_dataset = save['test_dataset']\n",
    "  test_labels = save['test_labels']\n",
    "  del save  # hint to help gc free up memory\n",
    "  print('Training set', train_dataset.shape, train_labels.shape)\n",
    "  print('Validation set', valid_dataset.shape, valid_labels.shape)\n",
    "  print('Test set', test_dataset.shape, test_labels.shape)"
   ]
  },
  {
   "cell_type": "code",
   "execution_count": 3,
   "metadata": {
    "cellView": "both",
    "colab": {
     "autoexec": {
      "startup": false,
      "wait_interval": 0
     },
     "output_extras": [
      {
       "item_id": 1
      }
     ]
    },
    "colab_type": "code",
    "collapsed": false,
    "executionInfo": {
     "elapsed": 19723,
     "status": "ok",
     "timestamp": 1449847956364,
     "user": {
      "color": "",
      "displayName": "",
      "isAnonymous": false,
      "isMe": true,
      "permissionId": "",
      "photoUrl": "",
      "sessionId": "0",
      "userId": ""
     },
     "user_tz": 480
    },
    "id": "IRSyYiIIGIzS",
    "outputId": "2ba0fc75-1487-4ace-a562-cf81cae82793"
   },
   "outputs": [
    {
     "name": "stdout",
     "output_type": "stream",
     "text": [
      "Training set (200000, 784) (200000, 10)\n",
      "Validation set (10000, 784) (10000, 10)\n",
      "Test set (10000, 784) (10000, 10)\n"
     ]
    }
   ],
   "source": [
    "#To not use GPU, on macbook, GPU memory of 512 MB is too little for most apps.\n",
    "config = tf.ConfigProto(device_count = {'GPU': 0} )\n",
    "\n",
    "image_size = 28\n",
    "num_labels = 10\n",
    "\n",
    "def reformat(dataset, labels):\n",
    "  dataset = dataset.reshape((-1, image_size * image_size)).astype(np.float32)\n",
    "  #One hot mapping\n",
    "  # Map 0 to [1.0, 0.0, 0.0 ...], 1 to [0.0, 1.0, 0.0 ...]\n",
    "  labels = (np.arange(num_labels) == labels[:,None]).astype(np.float32)\n",
    "  return dataset, labels\n",
    "train_dataset, train_labels = reformat(train_dataset, train_labels)\n",
    "valid_dataset, valid_labels = reformat(valid_dataset, valid_labels)\n",
    "test_dataset, test_labels = reformat(test_dataset, test_labels)\n",
    "print('Training set', train_dataset.shape, train_labels.shape)\n",
    "print('Validation set', valid_dataset.shape, valid_labels.shape)\n",
    "print('Test set', test_dataset.shape, test_labels.shape)"
   ]
  },
  {
   "cell_type": "markdown",
   "metadata": {},
   "source": [
    "### SGD with NN : 2 hidden layers"
   ]
  },
  {
   "cell_type": "code",
   "execution_count": 4,
   "metadata": {
    "collapsed": false
   },
   "outputs": [],
   "source": [
    "# With gradient descent training, even this much data is prohibitive.\n",
    "# Subset the training data for faster turnaround.\n",
    "train_subset = 100000\n",
    "hidden_nodes_layer1 = 500\n",
    "hidden_nodes_layer2 = 500\n",
    "learning_rate = 0.1\n",
    "batch_size = 345\n",
    "\n",
    "def compute_logits_2layer(dataset,h1_wts,h1_bias,h2_wts,h2_bias,o_wts,o_bias):\n",
    "    h1_linear = tf.matmul(dataset, h1_wts) + h1_bias\n",
    "    h1_out = tf.nn.relu(h1_linear)\n",
    "    h2_linear = tf.matmul(h1_out,h2_wts) + h2_bias\n",
    "    h2_out = tf.nn.relu(h2_linear)\n",
    "    logits = tf.matmul(h2_out, o_wts) + o_bias\n",
    "    return logits\n",
    "\n",
    "graph = tf.Graph()\n",
    "with graph.as_default():\n",
    "\n",
    "  # Input data. For the training data, we use a placeholder that will be fed\n",
    "  # at run time with a training minibatch.\n",
    "  tf_train_dataset = tf.placeholder(tf.float32,\n",
    "                                    shape=(batch_size, image_size * image_size))\n",
    "  tf_train_labels = tf.placeholder(tf.float32, shape=(batch_size, num_labels))\n",
    "  tf_valid_dataset = tf.constant(valid_dataset)\n",
    "  tf_test_dataset = tf.constant(test_dataset)\n",
    "  \n",
    "  # Variables.\n",
    "  # These are the parameters that we are going to be training. The weight\n",
    "  # matrix will be initialized using random values following a (truncated)\n",
    "  # normal distribution. The biases get initialized to zero.\n",
    "  h_weights_layer1 = tf.Variable(\n",
    "    tf.random_normal(shape=[image_size * image_size, hidden_nodes_layer1],stddev=0.01))\n",
    "\n",
    "  h_biases_layer1 = tf.Variable(tf.zeros([hidden_nodes_layer1]))\n",
    "\n",
    "  h_weights_layer2 = tf.Variable(\n",
    "    tf.random_normal(shape=[hidden_nodes_layer1, hidden_nodes_layer2],stddev=0.01))\n",
    "\n",
    "  h_biases_layer2 = tf.Variable(tf.zeros([hidden_nodes_layer2]))\n",
    "  \n",
    "  o_weights = tf.Variable(\n",
    "    tf.random_normal(shape=[hidden_nodes_layer2, num_labels],stddev=0.01))\n",
    "\n",
    "  o_biases = tf.Variable(tf.zeros([num_labels]))\n",
    "    \n",
    "  tf.summary.histogram(\"h_wts_layer1\",h_weights_layer1)\n",
    "  tf.summary.histogram(\"h_bias_layer1\",h_biases_layer1)\n",
    "  tf.summary.histogram(\"h_wts_layer2\",h_weights_layer2)\n",
    "  tf.summary.histogram(\"h_bias_layer2\",h_biases_layer2)\n",
    "  tf.summary.histogram(\"o_wts\",o_weights)\n",
    "  tf.summary.histogram(\"o_bias\",o_biases)\n",
    "\n",
    "  # Training computation.\n",
    "  # We multiply the inputs with the weight matrix, and add biases. We compute\n",
    "  # the softmax and cross-entropy (it's one operation in TensorFlow, because\n",
    "  # it's very common, and it can be optimized). We take the average of this\n",
    "  # cross-entropy across all training examples: that's our loss.\n",
    "  logits = compute_logits_2layer(tf_train_dataset, h_weights_layer1, h_biases_layer1,h_weights_layer2, h_biases_layer2,\n",
    "                          o_weights,o_biases)\n",
    "    \n",
    "  loss = tf.reduce_mean(\n",
    "    tf.nn.softmax_cross_entropy_with_logits(logits, tf_train_labels))\n",
    "\n",
    "  tf.summary.scalar('loss',loss)\n",
    "\n",
    "  # Optimizer.\n",
    "  # We are going to find the minimum of this loss using gradient descent.\n",
    "  optimizer = tf.train.GradientDescentOptimizer(learning_rate).minimize(loss)\n",
    "  #optimizer = tf.train.AdamOptimizer(learning_rate).minimize(loss)\n",
    "\n",
    "\n",
    "  # Predictions for the training, validation, and test data.\n",
    "  # These are not part of training, but merely here so that we can report\n",
    "  # accuracy figures as we train.\n",
    "  train_prediction = tf.nn.softmax(logits)\n",
    "\n",
    "  valid_prediction = tf.nn.softmax( compute_logits_2layer(tf_valid_dataset,h_weights_layer1, h_biases_layer1,h_weights_layer2, h_biases_layer2,\n",
    "                          o_weights,o_biases) )\n",
    "    \n",
    "  test_prediction = tf.nn.softmax( compute_logits_2layer(tf_test_dataset,h_weights_layer1, h_biases_layer1,h_weights_layer2, h_biases_layer2,\n",
    "                          o_weights,o_biases) )"
   ]
  },
  {
   "cell_type": "markdown",
   "metadata": {},
   "source": [
    "#### Run it"
   ]
  },
  {
   "cell_type": "code",
   "execution_count": 5,
   "metadata": {
    "collapsed": false
   },
   "outputs": [
    {
     "name": "stdout",
     "output_type": "stream",
     "text": [
      "Initialized\n",
      "Minibatch loss at step 0: 2.301794\n",
      "Minibatch accuracy: 12.8%\n",
      "Validation accuracy: 14.8%\n",
      "Test accuracy: 15.0%\n",
      "Minibatch loss at step 500: 0.552093\n",
      "Minibatch accuracy: 83.5%\n",
      "Validation accuracy: 83.3%\n",
      "Test accuracy: 89.3%\n",
      "Minibatch loss at step 1000: 0.559035\n",
      "Minibatch accuracy: 83.8%\n",
      "Validation accuracy: 84.9%\n",
      "Test accuracy: 91.0%\n",
      "Minibatch loss at step 1500: 0.372819\n",
      "Minibatch accuracy: 89.3%\n",
      "Validation accuracy: 86.1%\n",
      "Test accuracy: 92.0%\n",
      "Minibatch loss at step 2000: 0.434740\n",
      "Minibatch accuracy: 87.8%\n",
      "Validation accuracy: 87.3%\n",
      "Test accuracy: 92.7%\n",
      "Minibatch loss at step 2500: 0.329490\n",
      "Minibatch accuracy: 88.7%\n",
      "Validation accuracy: 87.6%\n",
      "Test accuracy: 93.3%\n",
      "Minibatch loss at step 3000: 0.380052\n",
      "Minibatch accuracy: 89.3%\n",
      "Validation accuracy: 87.7%\n",
      "Test accuracy: 93.4%\n",
      "Minibatch loss at step 3500: 0.360140\n",
      "Minibatch accuracy: 89.6%\n",
      "Validation accuracy: 88.7%\n",
      "Test accuracy: 94.1%\n",
      "Minibatch loss at step 4000: 0.367392\n",
      "Minibatch accuracy: 88.4%\n",
      "Validation accuracy: 89.1%\n",
      "Test accuracy: 94.5%\n",
      "Minibatch loss at step 4500: 0.297815\n",
      "Minibatch accuracy: 93.0%\n",
      "Validation accuracy: 88.9%\n",
      "Test accuracy: 94.5%\n",
      "Minibatch loss at step 5000: 0.292530\n",
      "Minibatch accuracy: 91.3%\n",
      "Validation accuracy: 89.4%\n",
      "Test accuracy: 94.8%\n",
      "Minibatch loss at step 5500: 0.357186\n",
      "Minibatch accuracy: 89.6%\n",
      "Validation accuracy: 89.3%\n",
      "Test accuracy: 94.6%\n",
      "Minibatch loss at step 6000: 0.271190\n",
      "Minibatch accuracy: 90.7%\n",
      "Validation accuracy: 89.8%\n",
      "Test accuracy: 94.7%\n",
      "Minibatch loss at step 6500: 0.272420\n",
      "Minibatch accuracy: 93.0%\n",
      "Validation accuracy: 89.8%\n",
      "Test accuracy: 94.9%\n",
      "Minibatch loss at step 7000: 0.300466\n",
      "Minibatch accuracy: 92.5%\n",
      "Validation accuracy: 89.9%\n",
      "Test accuracy: 95.2%\n",
      "Minibatch loss at step 7500: 0.285850\n",
      "Minibatch accuracy: 92.5%\n",
      "Validation accuracy: 89.7%\n",
      "Test accuracy: 95.0%\n",
      "Minibatch loss at step 8000: 0.216573\n",
      "Minibatch accuracy: 92.8%\n",
      "Validation accuracy: 90.4%\n",
      "Test accuracy: 95.2%\n",
      "Minibatch loss at step 8500: 0.296371\n",
      "Minibatch accuracy: 91.3%\n",
      "Validation accuracy: 90.3%\n",
      "Test accuracy: 95.4%\n",
      "Minibatch loss at step 9000: 0.266602\n",
      "Minibatch accuracy: 91.9%\n",
      "Validation accuracy: 90.1%\n",
      "Test accuracy: 95.1%\n",
      "Minibatch loss at step 9500: 0.297379\n",
      "Minibatch accuracy: 89.3%\n",
      "Validation accuracy: 90.5%\n",
      "Test accuracy: 95.3%\n",
      "Minibatch loss at step 10000: 0.221752\n",
      "Minibatch accuracy: 92.5%\n",
      "Validation accuracy: 90.4%\n",
      "Test accuracy: 95.2%\n",
      "Minibatch loss at step 10500: 0.237899\n",
      "Minibatch accuracy: 93.3%\n",
      "Validation accuracy: 90.6%\n",
      "Test accuracy: 95.5%\n",
      "Minibatch loss at step 11000: 0.161212\n",
      "Minibatch accuracy: 96.2%\n",
      "Validation accuracy: 90.8%\n",
      "Test accuracy: 95.4%\n",
      "Minibatch loss at step 11500: 0.278635\n",
      "Minibatch accuracy: 93.0%\n",
      "Validation accuracy: 90.7%\n",
      "Test accuracy: 95.5%\n",
      "Minibatch loss at step 12000: 0.213343\n",
      "Minibatch accuracy: 93.6%\n",
      "Validation accuracy: 90.8%\n",
      "Test accuracy: 95.5%\n",
      "Minibatch loss at step 12500: 0.206747\n",
      "Minibatch accuracy: 93.6%\n",
      "Validation accuracy: 90.8%\n",
      "Test accuracy: 95.7%\n",
      "1 loop, best of 1: 11h 3min 19s per loop\n"
     ]
    }
   ],
   "source": [
    "%%timeit -n 1 -r 1\n",
    "\n",
    "num_steps = 12501\n",
    "\n",
    "def accuracy(predictions, labels):\n",
    "  return (100.0 * np.sum(np.argmax(predictions, 1) == np.argmax(labels, 1))\n",
    "          / predictions.shape[0])\n",
    "\n",
    "with tf.Session(graph=graph,config=config) as session:\n",
    "    \n",
    "  writer = tf.summary.FileWriter(\"./logs/\",session.graph)\n",
    "  merged = tf.summary.merge_all()\n",
    "    \n",
    "  tf.global_variables_initializer().run()\n",
    "  #tf.initialize_all_variables().run()\n",
    "    \n",
    "  print(\"Initialized\")\n",
    "  for step in range(num_steps):\n",
    "    # Pick an offset within the training data, which has been randomized.\n",
    "    # Note: we could use better randomization across epochs.\n",
    "    offset = (step * batch_size) % (train_labels.shape[0] - batch_size)\n",
    "    # Generate a minibatch.\n",
    "    batch_data = train_dataset[offset:(offset + batch_size), :]\n",
    "    batch_labels = train_labels[offset:(offset + batch_size), :]\n",
    "    # Prepare a dictionary telling the session where to feed the minibatch.\n",
    "    # The key of the dictionary is the placeholder node of the graph to be fed,\n",
    "    # and the value is the numpy array to feed to it.\n",
    "    feed_dict = {tf_train_dataset : batch_data, tf_train_labels : batch_labels}\n",
    "    \n",
    "    _, l, predictions,summary = session.run(\n",
    "      [optimizer, loss, train_prediction , merged], feed_dict=feed_dict)\n",
    "    \n",
    "    writer.add_summary(summary, step)  # Write summary\n",
    "        \n",
    "    if (step % 500 == 0):\n",
    "      print(\"Minibatch loss at step %d: %f\" % (step, l))\n",
    "      print(\"Minibatch accuracy: %.1f%%\" % accuracy(predictions, batch_labels))\n",
    "      print(\"Validation accuracy: %.1f%%\" % accuracy(\n",
    "        valid_prediction.eval(), valid_labels))\n",
    "      print(\"Test accuracy: %.1f%%\" % accuracy(test_prediction.eval(), test_labels))"
   ]
  }
 ],
 "metadata": {
  "anaconda-cloud": {},
  "colab": {
   "default_view": {},
   "name": "2_fullyconnected.ipynb",
   "provenance": [],
   "version": "0.3.2",
   "views": {}
  },
  "kernelspec": {
   "display_name": "Python [default]",
   "language": "python",
   "name": "python2"
  },
  "language_info": {
   "codemirror_mode": {
    "name": "ipython",
    "version": 2
   },
   "file_extension": ".py",
   "mimetype": "text/x-python",
   "name": "python",
   "nbconvert_exporter": "python",
   "pygments_lexer": "ipython2",
   "version": "2.7.12"
  }
 },
 "nbformat": 4,
 "nbformat_minor": 0
}
